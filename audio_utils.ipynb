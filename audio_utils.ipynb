{
 "cells": [
  {
   "cell_type": "code",
   "execution_count": null,
   "metadata": {},
   "outputs": [],
   "source": [
    "from pathlib import Path\n",
    "from utils.audio_utils import get_total_audio_duration\n",
    "from utils.file_utils import save_json,load_json\n",
    "from tqdm import tqdm"
   ]
  },
  {
   "cell_type": "code",
   "execution_count": 2,
   "metadata": {},
   "outputs": [],
   "source": [
    "from zspeech.inference import  ZSpeech"
   ]
  },
  {
   "cell_type": "code",
   "execution_count": 4,
   "metadata": {},
   "outputs": [
    {
     "name": "stderr",
     "output_type": "stream",
     "text": [
      "INFO:zspeech.inference.client:Load VAD\n",
      "Extracting onnx_model.tar.gz : 2it [00:00, 690.99it/s]\n",
      "INFO:zspeech.inference.client:Load ASR\n",
      "Extracting model.tar.gz : 3it [00:04,  1.56s/it]\n",
      "INFO:zspeech.asr.inference._inference:intializing decoder\n"
     ]
    },
    {
     "name": "stdout",
     "output_type": "stream",
     "text": [
      "Total time taken for reading the FST file: 0.527969 seconds\n"
     ]
    },
    {
     "name": "stderr",
     "output_type": "stream",
     "text": [
      "Extracting onnx_model.tar.gz : 3it [00:01,  1.83it/s]\n",
      "INFO:root:ClassifyFst restored from en_fst.far.gz\n",
      "INFO:root:VerbalizeFinalFst restored from cached en_fst.far.gz\n",
      "INFO:root:PostProcessingFst restored from en_fst.far.gz\n",
      "INFO:zspeech.inference.client:Load SE\n",
      "Extracting onnx_model.tar.gz : 2it [00:00,  6.91it/s]\n",
      "Extracting onnx_model.tar.gz : 2it [00:00,  6.90it/s]\n",
      "INFO:zspeech.se.inference._inference:Inference runs with 16k SE service on cpu device\n",
      "Extracting onnx_model.tar.gz : 5it [00:00,  8.61it/s]\n",
      "Extracting onnx_model.tar.gz : 5it [00:00,  8.56it/s]\n",
      "INFO:zspeech.se.inference._inference:Inference runs with 16k SE service on cpu device\n"
     ]
    }
   ],
   "source": [
    "client = ZSpeech.load()"
   ]
  },
  {
   "cell_type": "code",
   "execution_count": null,
   "metadata": {},
   "outputs": [],
   "source": [
    "audio_info=\"/media/dataset-harddisk/munikumar/datasets/hindi_dataset/gramvaani/unlabelled/audio_info.json\""
   ]
  },
  {
   "cell_type": "code",
   "execution_count": null,
   "metadata": {},
   "outputs": [],
   "source": [
    "data=load_json(audio_info)"
   ]
  },
  {
   "cell_type": "code",
   "execution_count": null,
   "metadata": {},
   "outputs": [],
   "source": [
    "ge_30_sec=0\n",
    "for meta in tqdm(data):\n",
    "    if float(meta[\"duration\"])<10:\n",
    "        ge_30_sec+=1\n",
    "    # meta['duration']=get_total_audio_duration(meta['path'])"
   ]
  },
  {
   "cell_type": "code",
   "execution_count": null,
   "metadata": {},
   "outputs": [],
   "source": [
    "ge_30_sec"
   ]
  },
  {
   "cell_type": "code",
   "execution_count": null,
   "metadata": {},
   "outputs": [],
   "source": [
    "ge_30_sec"
   ]
  },
  {
   "cell_type": "code",
   "execution_count": null,
   "metadata": {},
   "outputs": [],
   "source": [
    "audio_root=Path(\"/media/dataset-harddisk/munikumar/datasets/hindi_dataset/gramvaani/unlabelled/final\")"
   ]
  },
  {
   "cell_type": "code",
   "execution_count": null,
   "metadata": {},
   "outputs": [],
   "source": [
    "all_audio=list(audio_root.rglob(\"*.mp3\"))"
   ]
  },
  {
   "cell_type": "code",
   "execution_count": null,
   "metadata": {},
   "outputs": [],
   "source": [
    "def convert_seconds_to_hh_mm_ss(seconds):\n",
    "    hours = seconds // 3600\n",
    "    minutes = (seconds % 3600) // 60\n",
    "    seconds = seconds % 60\n",
    "    return f\"{hours:02d}:{minutes:02d}:{seconds:02d}\"\n"
   ]
  },
  {
   "cell_type": "code",
   "execution_count": null,
   "metadata": {},
   "outputs": [],
   "source": [
    "from pydub import AudioSegment\n",
    "def get_channels(audio_file):\n",
    "    data=AudioSegment.from_mp3(audio_file)\n",
    "    return data.channels"
   ]
  },
  {
   "cell_type": "code",
   "execution_count": null,
   "metadata": {},
   "outputs": [],
   "source": [
    "stereo=0\n",
    "for file in tqdm(all_audio):\n",
    "    channels=get_channels(file)\n",
    "    if channels == 2:\n",
    "        stereo+=channels\n",
    "stereo"
   ]
  },
  {
   "cell_type": "code",
   "execution_count": null,
   "metadata": {},
   "outputs": [],
   "source": [
    "import torchaudio\n",
    "import librosa\n",
    "import torch\n",
    "from pathlib import Path\n",
    "def convert_stereo_to_mono(input_file):\n",
    "    audio_array, sample_rate = librosa.load(input_file)\n",
    "    \n",
    "    if len(audio_array.shape) == 1:\n",
    "        audio_array=audio_array.reshape((1,-1))\n",
    "        \n",
    "    waveform=torch.tensor(audio_array)\n",
    "    # Check if the audio is stereo\n",
    "    \n",
    "    if waveform.shape[0] == 2:\n",
    "        mono_waveform = torch.mean(waveform, dim=0, keepdim=True)\n",
    "    else:\n",
    "        mono_waveform = waveform\n",
    "    \n",
    "    torchaudio.save(input_file, mono_waveform, sample_rate)\n"
   ]
  },
  {
   "cell_type": "code",
   "execution_count": null,
   "metadata": {},
   "outputs": [],
   "source": [
    "convert_stereo_to_mono(\"/media/dataset-harddisk/munikumar/utils/audio_utils/609_1242306.mp3\")"
   ]
  },
  {
   "cell_type": "code",
   "execution_count": null,
   "metadata": {},
   "outputs": [],
   "source": [
    "audio_path=Path(\"/media/dataset-harddisk/munikumar/datasets/hindi_dataset/gramvaani/unlabelled/final/609-1242306.mp3\")"
   ]
  },
  {
   "cell_type": "code",
   "execution_count": null,
   "metadata": {},
   "outputs": [],
   "source": [
    "audio_path.exists()"
   ]
  },
  {
   "cell_type": "code",
   "execution_count": null,
   "metadata": {},
   "outputs": [],
   "source": [
    "from zspeech.audio.io import load_audio_using_stream_reader"
   ]
  },
  {
   "cell_type": "code",
   "execution_count": null,
   "metadata": {},
   "outputs": [],
   "source": [
    "audio_sig,sr=load_audio_using_stream_reader(all_audio[0],to_mono=True)"
   ]
  },
  {
   "cell_type": "code",
   "execution_count": null,
   "metadata": {},
   "outputs": [],
   "source": [
    "audio_sig.shape"
   ]
  },
  {
   "cell_type": "code",
   "execution_count": null,
   "metadata": {},
   "outputs": [],
   "source": [
    "audio, out_sample_rate = torchaudio.load(\n",
    "        audio_path, format=\"mp3\", normalize=False, frame_offset=0,\n",
    "        num_frames=-1\n",
    "    )"
   ]
  },
  {
   "cell_type": "code",
   "execution_count": null,
   "metadata": {},
   "outputs": [],
   "source": []
  },
  {
   "cell_type": "code",
   "execution_count": null,
   "metadata": {},
   "outputs": [],
   "source": [
    "audio.shape"
   ]
  },
  {
   "cell_type": "code",
   "execution_count": null,
   "metadata": {},
   "outputs": [],
   "source": [
    "import librosa\n",
    "\n",
    "audio_path = \"/media/dataset-harddisk/munikumar/utils/audio_utils/609_1242306.mp3\"\n",
    "audio_data, sample_rate = librosa.load(audio_path)\n"
   ]
  },
  {
   "cell_type": "code",
   "execution_count": null,
   "metadata": {},
   "outputs": [],
   "source": [
    "len(audio_data.shape)"
   ]
  },
  {
   "cell_type": "code",
   "execution_count": null,
   "metadata": {},
   "outputs": [],
   "source": [
    "torchaudio.save(\"mono.mp3\",torch.tensor(audio_data.reshape(1,-1)),sample_rate)"
   ]
  },
  {
   "cell_type": "code",
   "execution_count": null,
   "metadata": {},
   "outputs": [],
   "source": [
    "Audio(audio_data,rate=sample_rate)"
   ]
  },
  {
   "cell_type": "code",
   "execution_count": null,
   "metadata": {},
   "outputs": [],
   "source": [
    "import pydub\n",
    "import numpy as np\n",
    "\n",
    "def read_mp3(filename, normalized=False):\n",
    "    # MP3 to numpy array\n",
    "    audio = pydub.AudioSegment.from_mp3(filename)\n",
    "    samples = np.array(audio.get_array_of_samples())\n",
    "    if audio.channels == 2:\n",
    "        samples = samples.reshape((-1, 2))\n",
    "    if normalized:\n",
    "        return audio.frame_rate, np.float32(samples) / 2**15\n",
    "    else:\n",
    "        return audio.frame_rate, samples\n",
    "\n",
    "def write_mp3(filename, sample_rate, samples, normalized=False):\n",
    "    # numpy array to MP3\n",
    "    channels = 2 if (samples.ndim == 2 and samples.shape[1] == 2) else 1\n",
    "    if normalized:\n",
    "        samples = np.int16(samples * 2 ** 15)\n",
    "    else:\n",
    "        samples = np.int16(samples)\n",
    "    audio = pydub.AudioSegment(samples.tobytes(), frame_rate=sample_rate, sample_width=2, channels=channels)\n",
    "    audio.export(filename, format=\"mp3\", bitrate=\"320k\")\n"
   ]
  },
  {
   "cell_type": "code",
   "execution_count": null,
   "metadata": {},
   "outputs": [],
   "source": [
    "data=read_mp3(\"/media/dataset-harddisk/munikumar/utils/audio_utils/609_1242306.mp3\",normalized=True)"
   ]
  },
  {
   "cell_type": "code",
   "execution_count": null,
   "metadata": {},
   "outputs": [],
   "source": [
    "data[1].shape"
   ]
  },
  {
   "cell_type": "code",
   "execution_count": null,
   "metadata": {},
   "outputs": [],
   "source": [
    "from IPython.display import Audio\n",
    "Audio(data[1],rate=data[0])"
   ]
  },
  {
   "cell_type": "code",
   "execution_count": 5,
   "metadata": {},
   "outputs": [],
   "source": [
    "from pathlib import Path\n",
    "import os\n",
    "\n",
    "audio_root=Path(\"/media/dataset-harddisk/munikumar/datasets/hindi_dataset/zvoice/split_audio\")\n",
    "audio_files=list(audio_root.rglob(\"*.wav\"))\n",
    "dst=Path(\"/media/dataset-harddisk/munikumar/datasets/hindi_dataset/zvoice/all_split_audio\")\n",
    "dst.mkdir(exist_ok=True,parents=True)\n",
    "for file in audio_files:\n",
    "    os.system(f\"mv {str(file)} {str(dst)}\")"
   ]
  },
  {
   "cell_type": "code",
   "execution_count": null,
   "metadata": {},
   "outputs": [],
   "source": []
  }
 ],
 "metadata": {
  "kernelspec": {
   "display_name": "practice",
   "language": "python",
   "name": "python3"
  },
  "language_info": {
   "codemirror_mode": {
    "name": "ipython",
    "version": 3
   },
   "file_extension": ".py",
   "mimetype": "text/x-python",
   "name": "python",
   "nbconvert_exporter": "python",
   "pygments_lexer": "ipython3",
   "version": "3.9.18"
  }
 },
 "nbformat": 4,
 "nbformat_minor": 2
}
