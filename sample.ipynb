{
 "cells": [
  {
   "cell_type": "code",
   "execution_count": null,
   "metadata": {},
   "outputs": [],
   "source": [
    "from dataset.ekstep import *\n",
    "from constants.file_path_constants import *\n",
    "from utils.file_utils import save_json\n",
    "from utils.conversions import  sec_to_time"
   ]
  },
  {
   "cell_type": "code",
   "execution_count": 34,
   "metadata": {},
   "outputs": [],
   "source": [
    "empty_transcripts=get_empty_transcriptions(SAVE_PATH)"
   ]
  },
  {
   "cell_type": "code",
   "execution_count": 35,
   "metadata": {},
   "outputs": [
    {
     "name": "stderr",
     "output_type": "stream",
     "text": [
      "100%|██████████| 825/825 [00:00<00:00, 6751.32it/s]\n"
     ]
    }
   ],
   "source": [
    "duration=get_total_empty_transcripts_duration(AUDIO_PATH,empty_transcripts)"
   ]
  },
  {
   "cell_type": "code",
   "execution_count": 36,
   "metadata": {},
   "outputs": [
    {
     "data": {
      "text/plain": [
       "(4, 25, 27)"
      ]
     },
     "execution_count": 36,
     "metadata": {},
     "output_type": "execute_result"
    }
   ],
   "source": [
    "sec_to_time(15927)"
   ]
  },
  {
   "cell_type": "code",
   "execution_count": 37,
   "metadata": {},
   "outputs": [],
   "source": [
    "unique_characters=get_unique_characters(SAVE_PATH)"
   ]
  },
  {
   "cell_type": "code",
   "execution_count": 38,
   "metadata": {},
   "outputs": [],
   "source": [
    "non_hindi_text=get_non_hindi_text(SAVE_PATH)"
   ]
  },
  {
   "cell_type": "code",
   "execution_count": 39,
   "metadata": {},
   "outputs": [],
   "source": [
    "save_json(non_hindi_text,Path(SAVE_PATH).parent/\"non_hindi_text.json\",ensure_ascii=False)"
   ]
  },
  {
   "cell_type": "code",
   "execution_count": 40,
   "metadata": {},
   "outputs": [
    {
     "name": "stderr",
     "output_type": "stream",
     "text": [
      "100%|██████████| 1268/1268 [00:00<00:00, 7503.53it/s]\n"
     ]
    }
   ],
   "source": [
    "non_hindi_text_duration=get_total_empty_transcripts_duration(AUDIO_PATH,non_hindi_text)"
   ]
  },
  {
   "cell_type": "code",
   "execution_count": 41,
   "metadata": {},
   "outputs": [
    {
     "ename": "NameError",
     "evalue": "name 'save_path' is not defined",
     "output_type": "error",
     "traceback": [
      "\u001b[0;31m---------------------------------------------------------------------------\u001b[0m",
      "\u001b[0;31mNameError\u001b[0m                                 Traceback (most recent call last)",
      "Cell \u001b[0;32mIn[41], line 1\u001b[0m\n\u001b[0;32m----> 1\u001b[0m save_json(non_hindi_text_duration,Path(save_path)\u001b[39m.\u001b[39mparent\u001b[39m/\u001b[39m\u001b[39m\"\u001b[39m\u001b[39mnon_hindi_transcription.json\u001b[39m\u001b[39m\"\u001b[39m,ensure_ascii\u001b[39m=\u001b[39m\u001b[39mFalse\u001b[39;00m)\n",
      "\u001b[0;31mNameError\u001b[0m: name 'save_path' is not defined"
     ]
    }
   ],
   "source": [
    "save_json(non_hindi_text_duration,Path(save_path).parent/\"non_hindi_transcription.json\",ensure_ascii=False)"
   ]
  },
  {
   "cell_type": "code",
   "execution_count": null,
   "metadata": {},
   "outputs": [
    {
     "data": {
      "text/plain": [
       "1268"
      ]
     },
     "execution_count": 35,
     "metadata": {},
     "output_type": "execute_result"
    }
   ],
   "source": [
    "len(non_hindi_text)"
   ]
  },
  {
   "cell_type": "code",
   "execution_count": null,
   "metadata": {},
   "outputs": [],
   "source": [
    "import wave\n",
    "def get_audio_infoo(audio_file):\n",
    "    with wave.open(str(audio_file), \"rb\") as f:\n",
    "        sample_rate = f.getframerate()\n",
    "        channels = f.getnchannels()\n",
    "        bit_depth = f.getsampwidth() * 8\n",
    "        bit_rate = sample_rate * channels * bit_depth\n",
    "    return sample_rate, channels, bit_depth, bit_rate\n"
   ]
  },
  {
   "cell_type": "code",
   "execution_count": 31,
   "metadata": {},
   "outputs": [],
   "source": [
    "from pydub import AudioSegment\n",
    "\n",
    "def get_audio_info(audio_file):\n",
    "    data=AudioSegment.from_file(str(audio_file))\n",
    "    channels=data.channels\n",
    "    duration=data.duration_seconds\n",
    "    frame_count=data.frame_count()\n",
    "    sample_rate=data.frame_rate\n",
    "    frame_width=data.frame_width\n",
    "    sample_width=data.sample_width\n",
    "    bit_depth=data.sample_width*8\n",
    "    bit_rate=sample_rate*channels*bit_depth\n",
    "    audio_data={\n",
    "    \"channels\": channels,\n",
    "    \"duration\": duration,\n",
    "    \"frame_count\": frame_count,\n",
    "    \"sample_rate\": sample_rate,\n",
    "    \"frame_width\": frame_width,\n",
    "    \"sample width \": sample_width,\n",
    "    \"bit_depth or pcm \": bit_depth,\n",
    "    \"bit_rate\": bit_rate,\n",
    "    }\n",
    "    return audio_data"
   ]
  },
  {
   "cell_type": "code",
   "execution_count": 32,
   "metadata": {},
   "outputs": [
    {
     "data": {
      "text/plain": [
       "{'channels': 1,\n",
       " 'duration': 4.9493125,\n",
       " 'frame_count': 79189.0,\n",
       " 'sample_rate': 16000,\n",
       " 'frame_width': 2,\n",
       " 'sample width ': 2,\n",
       " 'bit_depth ': 16,\n",
       " 'bit_rate': 256000}"
      ]
     },
     "execution_count": 32,
     "metadata": {},
     "output_type": "execute_result"
    }
   ],
   "source": [
    "get_audio_info(Path(VAKYANSH_AUDIO_PATH)/\"0.wav\")"
   ]
  },
  {
   "cell_type": "code",
   "execution_count": 26,
   "metadata": {},
   "outputs": [
    {
     "data": {
      "text/plain": [
       "(16000, 1, 16, 256000)"
      ]
     },
     "execution_count": 26,
     "metadata": {},
     "output_type": "execute_result"
    }
   ],
   "source": [
    "get_audio_infoo(Path(VAKYANSH_AUDIO_PATH)/\"0.wav\")"
   ]
  },
  {
   "cell_type": "code",
   "execution_count": null,
   "metadata": {},
   "outputs": [],
   "source": []
  }
 ],
 "metadata": {
  "kernelspec": {
   "display_name": "practice",
   "language": "python",
   "name": "python3"
  },
  "language_info": {
   "codemirror_mode": {
    "name": "ipython",
    "version": 3
   },
   "file_extension": ".py",
   "mimetype": "text/x-python",
   "name": "python",
   "nbconvert_exporter": "python",
   "pygments_lexer": "ipython3",
   "version": "3.9.17"
  },
  "orig_nbformat": 4
 },
 "nbformat": 4,
 "nbformat_minor": 2
}
