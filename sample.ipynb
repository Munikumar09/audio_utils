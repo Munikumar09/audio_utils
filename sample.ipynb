{
 "cells": [
  {
   "cell_type": "code",
   "execution_count": 10,
   "metadata": {},
   "outputs": [],
   "source": [
    "\n",
    "from utils.file_utils import save_json\n",
    "from pathlib import Path\n",
    "from utils.conversions import sec_to_time\n",
    "from utils.audio_utils import get_audio_info,get_total_audio_duration\n",
    "from typing import Union\n",
    "import numpy as np\n",
    "import io\n",
    "import shutil\n",
    "from utils.transcription_utils import clean_and_verify_transcript_hi"
   ]
  },
  {
   "cell_type": "code",
   "execution_count": 11,
   "metadata": {},
   "outputs": [],
   "source": [
    "from utils.meta_utils import merge_json_files"
   ]
  },
  {
   "cell_type": "code",
   "execution_count": 12,
   "metadata": {},
   "outputs": [],
   "source": [
    "file_1=\"/media/dataset-harddisk/munikumar/hindi_dataset/ekstep/ekstep_preprocessed_normalization/ekstep_benchmark_preprocessed/evaluation/stats.json\""
   ]
  },
  {
   "cell_type": "code",
   "execution_count": 13,
   "metadata": {},
   "outputs": [],
   "source": [
    "file_2=\"/media/dataset-harddisk/munikumar/hindi_dataset/ekstep/ekstep_preprocessed_normalization/vakyansh_preprocessed/evaluation/stats.json\""
   ]
  },
  {
   "cell_type": "code",
   "execution_count": 14,
   "metadata": {},
   "outputs": [],
   "source": [
    "merger=merge_json_files(file_1,file_2)"
   ]
  },
  {
   "cell_type": "code",
   "execution_count": 15,
   "metadata": {},
   "outputs": [],
   "source": [
    "expected_transcriptions = [\n",
    "    \"श्नाइडर ने अपनी मातृभूमि में एक बेस से वीडियो लिंक के माध्यम से गवाही दी\",\n",
    "    \"डॉ. टोनी मोल ने दक्षिण अफ्रीकी क्षेत्र क्वाज़ुलु-नताल में अत्यंत दवा-रोधी क्षय रोग (एक्सडीआर-टीबी) की खोज की।\",\n",
    "    \"हां सार्वजनिक परिवहन और अन्य कार्यालयों में भी स्पेनिश व्यापक रूप से इस्तेमाल की जाती है\",\n",
    "]"
   ]
  },
  {
   "cell_type": "code",
   "execution_count": 16,
   "metadata": {},
   "outputs": [],
   "source": [
    "import string"
   ]
  },
  {
   "cell_type": "code",
   "execution_count": 17,
   "metadata": {},
   "outputs": [
    {
     "data": {
      "text/plain": [
       "True"
      ]
     },
     "execution_count": 17,
     "metadata": {},
     "output_type": "execute_result"
    }
   ],
   "source": [
    "'.' in string.punctuation"
   ]
  },
  {
   "cell_type": "code",
   "execution_count": 18,
   "metadata": {},
   "outputs": [],
   "source": [
    "from utils.transcription_utils import clean_and_verify_transcript_hi"
   ]
  },
  {
   "cell_type": "code",
   "execution_count": 19,
   "metadata": {},
   "outputs": [
    {
     "name": "stdout",
     "output_type": "stream",
     "text": [
      "('श्नाइडर ने अपनी मातृभूमि में एक बेस से वीडियो लिंक के माध्यम से गवाही दी', [])\n",
      "('डॉ टोनी मोल ने दक्षिण अफ्रीकी क्षेत्र क्वाज़ुलु नताल में अत्यंत दवा रोधी क्षय रोग एक्सडीआर टीबी की खोज की ', [])\n",
      "('हां सार्वजनिक परिवहन और अन्य कार्यालयों में भी स्पेनिश व्यापक रूप से इस्तेमाल की जाती है', [])\n"
     ]
    }
   ],
   "source": [
    "for t in expected_transcriptions:\n",
    "    print(clean_and_verify_transcript_hi(t))"
   ]
  },
  {
   "cell_type": "code",
   "execution_count": 10,
   "metadata": {},
   "outputs": [
    {
     "name": "stdout",
     "output_type": "stream",
     "text": [
      "('श्नाइडर ने अपनी मातृभूमि में एक बेस से वीडियो लिंक के माध्यम से गवाही दी', [])\n",
      "('डॉ टोनी मोल ने दक्षिण अफ्रीकी क्षेत्र क्वाज़ुलु नताल में अत्यंत दवा रोधी क्षय रोग एक्सडीआर टीबी की खोज की ', [])\n",
      "('हां सार्वजनिक परिवहन और अन्य कार्यालयों में भी स्पेनिश व्यापक रूप से इस्तेमाल की जाती है', [])\n"
     ]
    }
   ],
   "source": [
    "for t in expected_transcriptions:\n",
    "    print(clean_and_verify_transcript_hi(t))"
   ]
  },
  {
   "cell_type": "code",
   "execution_count": 24,
   "metadata": {},
   "outputs": [
    {
     "data": {
      "text/plain": [
       "'!\"#$%&\\'()*+,-./:;<=>?@[\\\\]^_`{|}~'"
      ]
     },
     "execution_count": 24,
     "metadata": {},
     "output_type": "execute_result"
    }
   ],
   "source": [
    "string.punctuation"
   ]
  },
  {
   "cell_type": "code",
   "execution_count": 23,
   "metadata": {},
   "outputs": [
    {
     "data": {
      "text/plain": [
       "False"
      ]
     },
     "execution_count": 23,
     "metadata": {},
     "output_type": "execute_result"
    }
   ],
   "source": [
    "\"—\" in string.punctuation"
   ]
  },
  {
   "cell_type": "code",
   "execution_count": 25,
   "metadata": {},
   "outputs": [
    {
     "data": {
      "text/plain": [
       "8212"
      ]
     },
     "execution_count": 25,
     "metadata": {},
     "output_type": "execute_result"
    }
   ],
   "source": [
    "ord(\"—\")"
   ]
  },
  {
   "cell_type": "code",
   "execution_count": 27,
   "metadata": {},
   "outputs": [
    {
     "data": {
      "text/plain": [
       "45"
      ]
     },
     "execution_count": 27,
     "metadata": {},
     "output_type": "execute_result"
    }
   ],
   "source": [
    "ord(\"-\")"
   ]
  },
  {
   "cell_type": "code",
   "execution_count": null,
   "metadata": {},
   "outputs": [],
   "source": [
    "”"
   ]
  }
 ],
 "metadata": {
  "kernelspec": {
   "display_name": "practice",
   "language": "python",
   "name": "python3"
  },
  "language_info": {
   "codemirror_mode": {
    "name": "ipython",
    "version": 3
   },
   "file_extension": ".py",
   "mimetype": "text/x-python",
   "name": "python",
   "nbconvert_exporter": "python",
   "pygments_lexer": "ipython3",
   "version": "3.9.17"
  },
  "orig_nbformat": 4
 },
 "nbformat": 4,
 "nbformat_minor": 2
}
