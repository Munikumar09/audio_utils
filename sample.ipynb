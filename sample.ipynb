{
 "cells": [
  {
   "cell_type": "code",
   "execution_count": 2,
   "metadata": {},
   "outputs": [],
   "source": [
    "from pathlib import Path\n",
    "\n",
    "from transformers import WhisperProcessor"
   ]
  },
  {
   "cell_type": "code",
   "execution_count": 3,
   "metadata": {},
   "outputs": [],
   "source": [
    "config_path=Path(\"/media/dataset-harddisk/munikumar/zspeech/configs/dataset/asr_eval_datasets/hi\")"
   ]
  },
  {
   "cell_type": "code",
   "execution_count": 4,
   "metadata": {},
   "outputs": [],
   "source": [
    "dev_data=\"{name}_dev:\\n audio_dir: /media/dataset-harddisk/munikumar/hindi_dataset/{name}/{name}_preprocessed/evaluation/audio_compressed\\n  metadata_file: /media/dataset-harddisk/munikumar/hindi_dataset/{name}/{name}_preprocessed/evaluation/dev.csv\""
   ]
  },
  {
   "cell_type": "code",
   "execution_count": 5,
   "metadata": {},
   "outputs": [],
   "source": [
    "dev_names=['kathbath','gramvaani','mucs','fleurs','common_voice']\n",
    "test_names=['kathbath','gramvaani','mucs','fleurs','common_voice','kathbath_hard','indictts']\n",
    "train_names=[\"kathbath\",'common_voice','fleurs','gramvaani','indictts','mucs']"
   ]
  },
  {
   "cell_type": "code",
   "execution_count": 6,
   "metadata": {},
   "outputs": [],
   "source": [
    "def create_config(split_type,dir_name,names):\n",
    "    for name in names:\n",
    "        audio_path=Path(f\"${{oc.env:ZSPEECH_ROOT}}/datasets/asr/evaluation/hi/{name}/audio\")\n",
    "        meta_path=Path(f\"${{oc.env:ZSPEECH_ROOT}}/datasets/asr/evaluation/hi/{name}/{split_type}.csv\")\n",
    "        if not audio_path.exists():\n",
    "            print(f\"{audio_path} not extist\")\n",
    "        if not meta_path.exists():\n",
    "            print(f\"{meta_path} not extist\")\n",
    "        data=f'{name}_{split_type}:\\n    audio_dir: {audio_path}\\n    metadata_file: {meta_path}'\n",
    "        print(data)\n",
    "        with open(config_path/f\"{name}_{split_type}.yaml\",'w')as fp:\n",
    "            fp.write(data)"
   ]
  },
  {
   "cell_type": "code",
   "execution_count": 7,
   "metadata": {},
   "outputs": [],
   "source": [
    "split_type=\"dev\"\n",
    "dir_name=\"evaluation\""
   ]
  },
  {
   "cell_type": "code",
   "execution_count": 8,
   "metadata": {},
   "outputs": [
    {
     "name": "stdout",
     "output_type": "stream",
     "text": [
      "${oc.env:ZSPEECH_ROOT}/datasets/asr/evaluation/hi/kathbath/audio not extist\n",
      "${oc.env:ZSPEECH_ROOT}/datasets/asr/evaluation/hi/kathbath/dev.csv not extist\n",
      "kathbath_dev:\n",
      "    audio_dir: ${oc.env:ZSPEECH_ROOT}/datasets/asr/evaluation/hi/kathbath/audio\n",
      "    metadata_file: ${oc.env:ZSPEECH_ROOT}/datasets/asr/evaluation/hi/kathbath/dev.csv\n",
      "${oc.env:ZSPEECH_ROOT}/datasets/asr/evaluation/hi/gramvaani/audio not extist\n",
      "${oc.env:ZSPEECH_ROOT}/datasets/asr/evaluation/hi/gramvaani/dev.csv not extist\n",
      "gramvaani_dev:\n",
      "    audio_dir: ${oc.env:ZSPEECH_ROOT}/datasets/asr/evaluation/hi/gramvaani/audio\n",
      "    metadata_file: ${oc.env:ZSPEECH_ROOT}/datasets/asr/evaluation/hi/gramvaani/dev.csv\n",
      "${oc.env:ZSPEECH_ROOT}/datasets/asr/evaluation/hi/mucs/audio not extist\n",
      "${oc.env:ZSPEECH_ROOT}/datasets/asr/evaluation/hi/mucs/dev.csv not extist\n",
      "mucs_dev:\n",
      "    audio_dir: ${oc.env:ZSPEECH_ROOT}/datasets/asr/evaluation/hi/mucs/audio\n",
      "    metadata_file: ${oc.env:ZSPEECH_ROOT}/datasets/asr/evaluation/hi/mucs/dev.csv\n",
      "${oc.env:ZSPEECH_ROOT}/datasets/asr/evaluation/hi/fleurs/audio not extist\n",
      "${oc.env:ZSPEECH_ROOT}/datasets/asr/evaluation/hi/fleurs/dev.csv not extist\n",
      "fleurs_dev:\n",
      "    audio_dir: ${oc.env:ZSPEECH_ROOT}/datasets/asr/evaluation/hi/fleurs/audio\n",
      "    metadata_file: ${oc.env:ZSPEECH_ROOT}/datasets/asr/evaluation/hi/fleurs/dev.csv\n",
      "${oc.env:ZSPEECH_ROOT}/datasets/asr/evaluation/hi/common_voice/audio not extist\n",
      "${oc.env:ZSPEECH_ROOT}/datasets/asr/evaluation/hi/common_voice/dev.csv not extist\n",
      "common_voice_dev:\n",
      "    audio_dir: ${oc.env:ZSPEECH_ROOT}/datasets/asr/evaluation/hi/common_voice/audio\n",
      "    metadata_file: ${oc.env:ZSPEECH_ROOT}/datasets/asr/evaluation/hi/common_voice/dev.csv\n"
     ]
    }
   ],
   "source": [
    "create_config(split_type,dir_name,dev_names)"
   ]
  },
  {
   "cell_type": "code",
   "execution_count": null,
   "metadata": {},
   "outputs": [],
   "source": [
    "audio_path=Path(\"/media/dataset-harddisk/munikumar/utils/audio_utils/data/test_audio/total_split\")"
   ]
  },
  {
   "cell_type": "code",
   "execution_count": null,
   "metadata": {},
   "outputs": [],
   "source": [
    "# from utils.audio_utils import convert_audio_format\n",
    "# for audio in audio_path.glob(\"*.mp3\"):\n",
    "#      convert_audio_format(audio,audio_path.parent/\"wavs\",\"wav\")"
   ]
  },
  {
   "cell_type": "code",
   "execution_count": null,
   "metadata": {},
   "outputs": [],
   "source": [
    "from pathlib import Path\n",
    "import os"
   ]
  },
  {
   "cell_type": "code",
   "execution_count": null,
   "metadata": {},
   "outputs": [],
   "source": [
    "audio_path=Path(\"/media/dataset-harddisk/munikumar/public_repos/datasets/whisper_datasets/hugging_face/eval/audio_copy\")"
   ]
  },
  {
   "cell_type": "code",
   "execution_count": null,
   "metadata": {},
   "outputs": [],
   "source": [
    "import csv"
   ]
  },
  {
   "cell_type": "code",
   "execution_count": null,
   "metadata": {},
   "outputs": [],
   "source": [
    "old_text=\"/media/dataset-harddisk/munikumar/datasets/hindi_dataset/common_voice/common_voice_preprocessed/training/common_voice/train.csv\"\n",
    "new_text=\"/media/dataset-harddisk/munikumar/datasets/hindi_dataset/common_voice/common_voice_raw/temp/training/train.csv\""
   ]
  },
  {
   "cell_type": "code",
   "execution_count": null,
   "metadata": {},
   "outputs": [],
   "source": [
    "def read_csv(file_path):\n",
    "    print(file_path)\n",
    "    with open(file_path,'r')as fp:\n",
    "        reader=csv.reader(fp)\n",
    "        data=list(reader)\n",
    "    return data"
   ]
  },
  {
   "cell_type": "code",
   "execution_count": null,
   "metadata": {},
   "outputs": [],
   "source": [
    "def compare_preprocess_csv_file(new_data,old_data,ignore_cols=[]):\n",
    "    for n,o in zip(new_data,old_data):\n",
    "        for i,j in zip(n,o):\n",
    "            if i not in ignore_cols and i!=j:\n",
    "                print(i,j)"
   ]
  },
  {
   "cell_type": "code",
   "execution_count": null,
   "metadata": {},
   "outputs": [
    {
     "name": "stdout",
     "output_type": "stream",
     "text": [
      "/media/dataset-harddisk/munikumar/datasets/hindi_dataset/common_voice/common_voice_raw/temp/training/train.csv\n",
      "/media/dataset-harddisk/munikumar/datasets/hindi_dataset/common_voice/common_voice_preprocessed/training/common_voice/train.csv\n"
     ]
    }
   ],
   "source": [
    "new_data=sorted(read_csv(new_text))\n",
    "old_data=sorted(read_csv(old_text))"
   ]
  },
  {
   "cell_type": "code",
   "execution_count": null,
   "metadata": {},
   "outputs": [],
   "source": [
    "compare_preprocess_csv_file(new_data,old_data,[\"common_voice\",\"common_voice_hindi\"])"
   ]
  },
  {
   "cell_type": "code",
   "execution_count": null,
   "metadata": {},
   "outputs": [],
   "source": [
    "import shutil\n",
    "from pathlib import Path\n",
    "import csv\n",
    "import tarfile\n",
    "import os"
   ]
  },
  {
   "cell_type": "code",
   "execution_count": null,
   "metadata": {},
   "outputs": [],
   "source": [
    "sample_file=\"/media/dataset-harddisk/munikumar/utils/audio_utils/data/test_audio/wavs/cousins_time_0_0_25_0.wav\"\n",
    "temp_dir=\"/media/dataset-harddisk/munikumar/utils/audio_utils/data/temp\""
   ]
  },
  {
   "cell_type": "code",
   "execution_count": null,
   "metadata": {},
   "outputs": [
    {
     "data": {
      "text/plain": [
       "PosixPath('/media/dataset-harddisk/munikumar/utils/audio_utils/data/temp/hi.tar.gz')"
      ]
     },
     "execution_count": 12,
     "metadata": {},
     "output_type": "execute_result"
    }
   ],
   "source": [
    "sample_hindi_dataset(temp_dir,sample_file)"
   ]
  },
  {
   "cell_type": "code",
   "execution_count": 1,
   "metadata": {},
   "outputs": [],
   "source": [
    "from pathlib import Path"
   ]
  },
  {
   "cell_type": "code",
   "execution_count": 2,
   "metadata": {},
   "outputs": [],
   "source": [
    "from utils.audio_utils import get_total_audio_info"
   ]
  },
  {
   "cell_type": "code",
   "execution_count": 3,
   "metadata": {},
   "outputs": [],
   "source": [
    "audio_path=Path(\"/media/dataset-harddisk/munikumar/utils/audio_utils/data/test_audio/inhouse_meeting_recordings_test/evaluation/audio_compressed/audio\")"
   ]
  },
  {
   "cell_type": "code",
   "execution_count": 4,
   "metadata": {},
   "outputs": [
    {
     "name": "stderr",
     "output_type": "stream",
     "text": [
      "100%|██████████| 769/769 [00:31<00:00, 24.37it/s]\n"
     ]
    }
   ],
   "source": [
    "audio_info=get_total_audio_info(audio_path)"
   ]
  },
  {
   "cell_type": "code",
   "execution_count": 2,
   "metadata": {},
   "outputs": [],
   "source": [
    "from utils.file_utils import load_json"
   ]
  },
  {
   "cell_type": "code",
   "execution_count": 1,
   "metadata": {},
   "outputs": [],
   "source": [
    "js_path=\"/media/dataset-harddisk/munikumar/zspeech/inference/benchmarking/asr/results/indictts_test/transcription_results/train_hindifullfemale_00100.opus.json\""
   ]
  },
  {
   "cell_type": "code",
   "execution_count": 3,
   "metadata": {},
   "outputs": [
    {
     "data": {
      "text/plain": [
       "{'start_time': 0.0,\n",
       " 'end_time': 0.0,\n",
       " 'transcript': 'राष्ट्रवाद सामुदायिक पहचान की तलाश में आसानी से धर्म की ओर मुड़ता है',\n",
       " 'transcript_raw': 'राष्ट्रवाद सामुदायिक पहचान की तलाश में आसानी से धर्म की ओर मुड़ता है',\n",
       " 'ground_truth': 'राष्ट्रवाद सामुदायिक पहचान की तलाश में आसानी से धर्म की ओर मुड़ता है',\n",
       " 'ground_truth_id': 'train_hindifullfemale_00100.opus',\n",
       " 'metrics': {'wer': 0.0, 'cer': 0.0},\n",
       " 'words': [{'word': 'राष्ट्रवाद',\n",
       "   'start_time': 0.0,\n",
       "   'end_time': 0.0,\n",
       "   'confidence': 0}]}"
      ]
     },
     "execution_count": 3,
     "metadata": {},
     "output_type": "execute_result"
    }
   ],
   "source": [
    "load_json(js_path)"
   ]
  },
  {
   "cell_type": "code",
   "execution_count": 17,
   "metadata": {},
   "outputs": [],
   "source": [
    "import pandas as pd\n",
    "from pathlib import Path\n",
    "from utils.audio_utils import get_total_audio_duration"
   ]
  },
  {
   "cell_type": "code",
   "execution_count": 5,
   "metadata": {},
   "outputs": [],
   "source": [
    "base_dir=Path(\"/media/dataset-harddisk/munikumar/datasets/hindi_dataset/common_voice/common_voice_raw_v16/cv-corpus-16.1-2023-12-06/hi\")"
   ]
  },
  {
   "cell_type": "code",
   "execution_count": 6,
   "metadata": {},
   "outputs": [],
   "source": [
    "train=pd.read_csv(base_dir/\"train.tsv\",sep=\"\\t\")\n",
    "dev=pd.read_csv(base_dir/\"dev.tsv\",sep=\"\\t\")\n",
    "test=pd.read_csv(base_dir/\"test.tsv\",sep=\"\\t\")"
   ]
  },
  {
   "cell_type": "code",
   "execution_count": 16,
   "metadata": {},
   "outputs": [
    {
     "data": {
      "text/html": [
       "<div>\n",
       "<style scoped>\n",
       "    .dataframe tbody tr th:only-of-type {\n",
       "        vertical-align: middle;\n",
       "    }\n",
       "\n",
       "    .dataframe tbody tr th {\n",
       "        vertical-align: top;\n",
       "    }\n",
       "\n",
       "    .dataframe thead th {\n",
       "        text-align: right;\n",
       "    }\n",
       "</style>\n",
       "<table border=\"1\" class=\"dataframe\">\n",
       "  <thead>\n",
       "    <tr style=\"text-align: right;\">\n",
       "      <th></th>\n",
       "      <th>client_id</th>\n",
       "      <th>path</th>\n",
       "      <th>sentence</th>\n",
       "      <th>up_votes</th>\n",
       "      <th>down_votes</th>\n",
       "      <th>age</th>\n",
       "      <th>gender</th>\n",
       "      <th>accents</th>\n",
       "      <th>variant</th>\n",
       "      <th>locale</th>\n",
       "      <th>segment</th>\n",
       "    </tr>\n",
       "  </thead>\n",
       "  <tbody>\n",
       "    <tr>\n",
       "      <th>0</th>\n",
       "      <td>2312b0d85bd1eb1a017264abf770df086e10cec218cf1a...</td>\n",
       "      <td>common_voice_hi_26954609.mp3</td>\n",
       "      <td>अक्षय कुमार कर रहे हैं केरल में मेडिटेशन</td>\n",
       "      <td>2</td>\n",
       "      <td>0</td>\n",
       "      <td>NaN</td>\n",
       "      <td>NaN</td>\n",
       "      <td>NaN</td>\n",
       "      <td>NaN</td>\n",
       "      <td>hi</td>\n",
       "      <td>NaN</td>\n",
       "    </tr>\n",
       "    <tr>\n",
       "      <th>1</th>\n",
       "      <td>2312b0d85bd1eb1a017264abf770df086e10cec218cf1a...</td>\n",
       "      <td>common_voice_hi_26954613.mp3</td>\n",
       "      <td>कांग्रेस को सरकार में बने रहने का नैतिक अधिकार...</td>\n",
       "      <td>2</td>\n",
       "      <td>0</td>\n",
       "      <td>NaN</td>\n",
       "      <td>NaN</td>\n",
       "      <td>NaN</td>\n",
       "      <td>NaN</td>\n",
       "      <td>hi</td>\n",
       "      <td>NaN</td>\n",
       "    </tr>\n",
       "    <tr>\n",
       "      <th>2</th>\n",
       "      <td>2312b0d85bd1eb1a017264abf770df086e10cec218cf1a...</td>\n",
       "      <td>common_voice_hi_26954615.mp3</td>\n",
       "      <td>मुंबई पर हमले में पाकिस्तान का हाथ: प्रणब</td>\n",
       "      <td>2</td>\n",
       "      <td>0</td>\n",
       "      <td>NaN</td>\n",
       "      <td>NaN</td>\n",
       "      <td>NaN</td>\n",
       "      <td>NaN</td>\n",
       "      <td>hi</td>\n",
       "      <td>NaN</td>\n",
       "    </tr>\n",
       "    <tr>\n",
       "      <th>3</th>\n",
       "      <td>2312b0d85bd1eb1a017264abf770df086e10cec218cf1a...</td>\n",
       "      <td>common_voice_hi_26954618.mp3</td>\n",
       "      <td>तारक मेहता फैंस को करना होगा इंतजार, नई दयाबेन...</td>\n",
       "      <td>2</td>\n",
       "      <td>1</td>\n",
       "      <td>NaN</td>\n",
       "      <td>NaN</td>\n",
       "      <td>NaN</td>\n",
       "      <td>NaN</td>\n",
       "      <td>hi</td>\n",
       "      <td>NaN</td>\n",
       "    </tr>\n",
       "    <tr>\n",
       "      <th>4</th>\n",
       "      <td>2312b0d85bd1eb1a017264abf770df086e10cec218cf1a...</td>\n",
       "      <td>common_voice_hi_26954620.mp3</td>\n",
       "      <td>कैसा होगा रणवीर-दीपिका का फर्स्ट दिवाली सेलिब्...</td>\n",
       "      <td>2</td>\n",
       "      <td>0</td>\n",
       "      <td>NaN</td>\n",
       "      <td>NaN</td>\n",
       "      <td>NaN</td>\n",
       "      <td>NaN</td>\n",
       "      <td>hi</td>\n",
       "      <td>NaN</td>\n",
       "    </tr>\n",
       "    <tr>\n",
       "      <th>...</th>\n",
       "      <td>...</td>\n",
       "      <td>...</td>\n",
       "      <td>...</td>\n",
       "      <td>...</td>\n",
       "      <td>...</td>\n",
       "      <td>...</td>\n",
       "      <td>...</td>\n",
       "      <td>...</td>\n",
       "      <td>...</td>\n",
       "      <td>...</td>\n",
       "      <td>...</td>\n",
       "    </tr>\n",
       "    <tr>\n",
       "      <th>2420</th>\n",
       "      <td>ec293248c910c28091014fec13d47bb69cc84f0b265ad0...</td>\n",
       "      <td>common_voice_hi_24782771.mp3</td>\n",
       "      <td>केट को नीलम जड़ा हेयर पिन उपहार में देगा श्रीलंका</td>\n",
       "      <td>2</td>\n",
       "      <td>1</td>\n",
       "      <td>thirties</td>\n",
       "      <td>male</td>\n",
       "      <td>NaN</td>\n",
       "      <td>NaN</td>\n",
       "      <td>hi</td>\n",
       "      <td>NaN</td>\n",
       "    </tr>\n",
       "    <tr>\n",
       "      <th>2421</th>\n",
       "      <td>ec293248c910c28091014fec13d47bb69cc84f0b265ad0...</td>\n",
       "      <td>common_voice_hi_24782772.mp3</td>\n",
       "      <td>जीत की राह पर लौटना चाहेंगे पुणे वारियर्स</td>\n",
       "      <td>2</td>\n",
       "      <td>0</td>\n",
       "      <td>thirties</td>\n",
       "      <td>male</td>\n",
       "      <td>NaN</td>\n",
       "      <td>NaN</td>\n",
       "      <td>hi</td>\n",
       "      <td>NaN</td>\n",
       "    </tr>\n",
       "    <tr>\n",
       "      <th>2422</th>\n",
       "      <td>ec293248c910c28091014fec13d47bb69cc84f0b265ad0...</td>\n",
       "      <td>common_voice_hi_24782773.mp3</td>\n",
       "      <td>उस आदमी ने सारी उम्मीद छोड़दी।</td>\n",
       "      <td>2</td>\n",
       "      <td>0</td>\n",
       "      <td>thirties</td>\n",
       "      <td>male</td>\n",
       "      <td>NaN</td>\n",
       "      <td>NaN</td>\n",
       "      <td>hi</td>\n",
       "      <td>NaN</td>\n",
       "    </tr>\n",
       "    <tr>\n",
       "      <th>2423</th>\n",
       "      <td>ec293248c910c28091014fec13d47bb69cc84f0b265ad0...</td>\n",
       "      <td>common_voice_hi_24782774.mp3</td>\n",
       "      <td>तुम्हें किसने बताया?</td>\n",
       "      <td>2</td>\n",
       "      <td>0</td>\n",
       "      <td>thirties</td>\n",
       "      <td>male</td>\n",
       "      <td>NaN</td>\n",
       "      <td>NaN</td>\n",
       "      <td>hi</td>\n",
       "      <td>NaN</td>\n",
       "    </tr>\n",
       "    <tr>\n",
       "      <th>2424</th>\n",
       "      <td>ec293248c910c28091014fec13d47bb69cc84f0b265ad0...</td>\n",
       "      <td>common_voice_hi_24782775.mp3</td>\n",
       "      <td>पक्षी घोसले बनातें हैं।</td>\n",
       "      <td>2</td>\n",
       "      <td>1</td>\n",
       "      <td>thirties</td>\n",
       "      <td>male</td>\n",
       "      <td>NaN</td>\n",
       "      <td>NaN</td>\n",
       "      <td>hi</td>\n",
       "      <td>NaN</td>\n",
       "    </tr>\n",
       "  </tbody>\n",
       "</table>\n",
       "<p>2425 rows × 11 columns</p>\n",
       "</div>"
      ],
      "text/plain": [
       "                                              client_id  \\\n",
       "0     2312b0d85bd1eb1a017264abf770df086e10cec218cf1a...   \n",
       "1     2312b0d85bd1eb1a017264abf770df086e10cec218cf1a...   \n",
       "2     2312b0d85bd1eb1a017264abf770df086e10cec218cf1a...   \n",
       "3     2312b0d85bd1eb1a017264abf770df086e10cec218cf1a...   \n",
       "4     2312b0d85bd1eb1a017264abf770df086e10cec218cf1a...   \n",
       "...                                                 ...   \n",
       "2420  ec293248c910c28091014fec13d47bb69cc84f0b265ad0...   \n",
       "2421  ec293248c910c28091014fec13d47bb69cc84f0b265ad0...   \n",
       "2422  ec293248c910c28091014fec13d47bb69cc84f0b265ad0...   \n",
       "2423  ec293248c910c28091014fec13d47bb69cc84f0b265ad0...   \n",
       "2424  ec293248c910c28091014fec13d47bb69cc84f0b265ad0...   \n",
       "\n",
       "                              path  \\\n",
       "0     common_voice_hi_26954609.mp3   \n",
       "1     common_voice_hi_26954613.mp3   \n",
       "2     common_voice_hi_26954615.mp3   \n",
       "3     common_voice_hi_26954618.mp3   \n",
       "4     common_voice_hi_26954620.mp3   \n",
       "...                            ...   \n",
       "2420  common_voice_hi_24782771.mp3   \n",
       "2421  common_voice_hi_24782772.mp3   \n",
       "2422  common_voice_hi_24782773.mp3   \n",
       "2423  common_voice_hi_24782774.mp3   \n",
       "2424  common_voice_hi_24782775.mp3   \n",
       "\n",
       "                                               sentence  up_votes  down_votes  \\\n",
       "0              अक्षय कुमार कर रहे हैं केरल में मेडिटेशन         2           0   \n",
       "1     कांग्रेस को सरकार में बने रहने का नैतिक अधिकार...         2           0   \n",
       "2             मुंबई पर हमले में पाकिस्तान का हाथ: प्रणब         2           0   \n",
       "3     तारक मेहता फैंस को करना होगा इंतजार, नई दयाबेन...         2           1   \n",
       "4     कैसा होगा रणवीर-दीपिका का फर्स्ट दिवाली सेलिब्...         2           0   \n",
       "...                                                 ...       ...         ...   \n",
       "2420  केट को नीलम जड़ा हेयर पिन उपहार में देगा श्रीलंका         2           1   \n",
       "2421          जीत की राह पर लौटना चाहेंगे पुणे वारियर्स         2           0   \n",
       "2422                     उस आदमी ने सारी उम्मीद छोड़दी।         2           0   \n",
       "2423                               तुम्हें किसने बताया?         2           0   \n",
       "2424                            पक्षी घोसले बनातें हैं।         2           1   \n",
       "\n",
       "           age gender  accents  variant locale  segment  \n",
       "0          NaN    NaN      NaN      NaN     hi      NaN  \n",
       "1          NaN    NaN      NaN      NaN     hi      NaN  \n",
       "2          NaN    NaN      NaN      NaN     hi      NaN  \n",
       "3          NaN    NaN      NaN      NaN     hi      NaN  \n",
       "4          NaN    NaN      NaN      NaN     hi      NaN  \n",
       "...        ...    ...      ...      ...    ...      ...  \n",
       "2420  thirties   male      NaN      NaN     hi      NaN  \n",
       "2421  thirties   male      NaN      NaN     hi      NaN  \n",
       "2422  thirties   male      NaN      NaN     hi      NaN  \n",
       "2423  thirties   male      NaN      NaN     hi      NaN  \n",
       "2424  thirties   male      NaN      NaN     hi      NaN  \n",
       "\n",
       "[2425 rows x 11 columns]"
      ]
     },
     "execution_count": 16,
     "metadata": {},
     "output_type": "execute_result"
    }
   ],
   "source": [
    "dev"
   ]
  },
  {
   "cell_type": "code",
   "execution_count": 12,
   "metadata": {},
   "outputs": [],
   "source": [
    "audio_files=train[\"path\"].to_list()+dev[\"path\"].to_list()+test[\"path\"].to_list()"
   ]
  },
  {
   "cell_type": "code",
   "execution_count": 13,
   "metadata": {},
   "outputs": [
    {
     "data": {
      "text/plain": [
       "10222"
      ]
     },
     "execution_count": 13,
     "metadata": {},
     "output_type": "execute_result"
    }
   ],
   "source": [
    "len(audio_files)"
   ]
  },
  {
   "cell_type": "code",
   "execution_count": 19,
   "metadata": {},
   "outputs": [],
   "source": [
    "audio_files=[base_dir/\"clips\"/i for i in audio_files]"
   ]
  },
  {
   "cell_type": "code",
   "execution_count": 20,
   "metadata": {},
   "outputs": [
    {
     "name": "stderr",
     "output_type": "stream",
     "text": [
      "100%|██████████| 10222/10222 [00:02<00:00, 3897.86it/s]\n"
     ]
    }
   ],
   "source": [
    "duration=get_total_audio_duration(audio_files)"
   ]
  },
  {
   "cell_type": "code",
   "execution_count": 22,
   "metadata": {},
   "outputs": [
    {
     "data": {
      "text/plain": [
       "47062.51199999946"
      ]
     },
     "execution_count": 22,
     "metadata": {},
     "output_type": "execute_result"
    }
   ],
   "source": [
    "duration[\"total_duration\"]"
   ]
  },
  {
   "cell_type": "code",
   "execution_count": 23,
   "metadata": {},
   "outputs": [],
   "source": [
    "from utils.conversions import sec_to_time"
   ]
  },
  {
   "cell_type": "code",
   "execution_count": 24,
   "metadata": {},
   "outputs": [
    {
     "data": {
      "text/plain": [
       "(13.0, 4.0, 22.511999999456748)"
      ]
     },
     "execution_count": 24,
     "metadata": {},
     "output_type": "execute_result"
    }
   ],
   "source": [
    "sec_to_time(duration[\"total_duration\"])"
   ]
  }
 ],
 "metadata": {
  "kernelspec": {
   "display_name": "practice",
   "language": "python",
   "name": "python3"
  },
  "language_info": {
   "codemirror_mode": {
    "name": "ipython",
    "version": 3
   },
   "file_extension": ".py",
   "mimetype": "text/x-python",
   "name": "python",
   "nbconvert_exporter": "python",
   "pygments_lexer": "ipython3",
   "version": "3.9.17"
  },
  "orig_nbformat": 4
 },
 "nbformat": 4,
 "nbformat_minor": 2
}
