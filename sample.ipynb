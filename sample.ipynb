{
 "cells": [
  {
   "cell_type": "code",
   "execution_count": null,
   "metadata": {},
   "outputs": [],
   "source": [
    "\n",
    "from utils.file_utils import save_json\n",
    "from pathlib import Path\n",
    "from utils.conversions import sec_to_time\n",
    "from utils.audio_utils import get_audio_info,get_total_audio_duration\n",
    "from typing import Union\n",
    "import numpy as np\n",
    "import io\n",
    "import shutil\n",
    "from utils.transcription_utils import clean_and_verify_transcript_hi"
   ]
  },
  {
   "cell_type": "code",
   "execution_count": null,
   "metadata": {},
   "outputs": [],
   "source": [
    "kathbath_save=\"/media/dataset-harddisk/munikumar/utils/audio_utils/data/kathbath\""
   ]
  },
  {
   "cell_type": "code",
   "execution_count": null,
   "metadata": {},
   "outputs": [],
   "source": [
    "root_dir=\"/media/dataset-harddisk/munikumar/hindi_dataset/kathbath/kb_data_clean_m4a/hindi\""
   ]
  },
  {
   "cell_type": "code",
   "execution_count": null,
   "metadata": {},
   "outputs": [],
   "source": [
    "root_path=Path(root_dir)"
   ]
  },
  {
   "cell_type": "code",
   "execution_count": null,
   "metadata": {},
   "outputs": [],
   "source": [
    "transcript_files=list(root_path.glob(\"*\"))"
   ]
  },
  {
   "cell_type": "code",
   "execution_count": null,
   "metadata": {},
   "outputs": [],
   "source": [
    "for file in transcript_files:\n",
    "    all_audio_paths=list(file.rglob(\"*.m4a\"))\n",
    "    print(file)\n",
    "    if len(all_audio_paths)>0:\n",
    "        duration=get_total_audio_duration(all_audio_paths)\n",
    "        print(duration[\"total_duration\"])\n",
    "        save_json(duration,Path(kathbath_save)/f\"{file.name}.json\")\n",
    "    \n",
    "    "
   ]
  },
  {
   "cell_type": "code",
   "execution_count": null,
   "metadata": {},
   "outputs": [],
   "source": [
    "from utils.audio_utils import get_audio_info"
   ]
  },
  {
   "cell_type": "code",
   "execution_count": null,
   "metadata": {},
   "outputs": [],
   "source": [
    "audio_file=\"/media/dataset-harddisk/munikumar/hindi_dataset/kathbath/kb_data_clean_m4a/hindi/train/audio\""
   ]
  },
  {
   "cell_type": "code",
   "execution_count": null,
   "metadata": {},
   "outputs": [],
   "source": [
    "all_audio=list(Path(audio_file).glob(\"*\"))"
   ]
  },
  {
   "cell_type": "code",
   "execution_count": null,
   "metadata": {},
   "outputs": [],
   "source": [
    "import subprocess\n",
    "import re"
   ]
  },
  {
   "cell_type": "code",
   "execution_count": null,
   "metadata": {},
   "outputs": [],
   "source": [
    "i=0\n",
    "for file in all_audio:\n",
    "    #audio_file= \"example.m4a\"\n",
    "    cmd = ['ffprobe', '-v', 'error', '-show_entries', \n",
    "        'format=duration', str(audio_file)]\n",
    "\n",
    "    output = subprocess.check_output(cmd).decode('utf-8')\n",
    "    duration = re.search(r'duration=(.+)', output).group(1)\n",
    "    print(duration)\n",
    "    i+=1\n",
    "    if i>10:\n",
    "        break"
   ]
  },
  {
   "cell_type": "code",
   "execution_count": null,
   "metadata": {},
   "outputs": [],
   "source": []
  },
  {
   "cell_type": "code",
   "execution_count": null,
   "metadata": {},
   "outputs": [],
   "source": [
    "from pathlib import Path"
   ]
  },
  {
   "cell_type": "code",
   "execution_count": null,
   "metadata": {},
   "outputs": [],
   "source": [
    "vistaar=\"/media/dataset-harddisk/munikumar/hindi_dataset/vistaar/vistaar/kathbath/hindi/test/audio\""
   ]
  },
  {
   "cell_type": "code",
   "execution_count": null,
   "metadata": {},
   "outputs": [],
   "source": [
    "vistaar_files=list(Path(vistaar).rglob(\"*.wav\"))"
   ]
  },
  {
   "cell_type": "code",
   "execution_count": null,
   "metadata": {},
   "outputs": [],
   "source": [
    "vistaar_benchmark=\"/media/dataset-harddisk/munikumar/hindi_dataset/vistaar/vistaar_benchmarks/kathbath/hindi/wavs\""
   ]
  },
  {
   "cell_type": "code",
   "execution_count": null,
   "metadata": {},
   "outputs": [],
   "source": [
    "vistaar_benchmark_files=list(Path(vistaar_benchmark).rglob(\"*.wav\"))"
   ]
  },
  {
   "cell_type": "code",
   "execution_count": null,
   "metadata": {},
   "outputs": [],
   "source": [
    "v_names=[file.name for file in vistaar_files]"
   ]
  },
  {
   "cell_type": "code",
   "execution_count": null,
   "metadata": {},
   "outputs": [],
   "source": [
    "vb_names=[file.name for file in vistaar_benchmark_files]"
   ]
  },
  {
   "cell_type": "code",
   "execution_count": null,
   "metadata": {},
   "outputs": [],
   "source": [
    "len(v_names)"
   ]
  },
  {
   "cell_type": "code",
   "execution_count": null,
   "metadata": {},
   "outputs": [],
   "source": [
    "len(vb_names)"
   ]
  },
  {
   "cell_type": "code",
   "execution_count": null,
   "metadata": {},
   "outputs": [],
   "source": [
    "v_names=sorted(v_names)\n",
    "vb_names=sorted(vb_names)"
   ]
  },
  {
   "cell_type": "code",
   "execution_count": null,
   "metadata": {},
   "outputs": [],
   "source": [
    "v_names[:10]"
   ]
  },
  {
   "cell_type": "code",
   "execution_count": null,
   "metadata": {},
   "outputs": [],
   "source": [
    "vb_names[:10]"
   ]
  },
  {
   "cell_type": "code",
   "execution_count": 8,
   "metadata": {},
   "outputs": [],
   "source": [
    "from utils.meta_utils import merge_json_files\n",
    "from utils.file_utils import save_json"
   ]
  },
  {
   "cell_type": "code",
   "execution_count": 9,
   "metadata": {},
   "outputs": [],
   "source": [
    "f1=\"/media/dataset-harddisk/munikumar/annotation_task/data/part2/in_house_annotators_meeting_recordings_continuation/training/stats.json\"\n",
    "f2=\"/media/dataset-harddisk/munikumar/annotation_task/data/part1/in_house_annotators_meeting_recordings/training/stats.json\""
   ]
  },
  {
   "cell_type": "code",
   "execution_count": 10,
   "metadata": {},
   "outputs": [],
   "source": [
    "k=\"5 days, 13:21:24.519184\"\n",
    "l=\"2 days, 18:43:50.409524\"\n",
    "from utils.meta_utils import add_audio_length,convert_to_time\n"
   ]
  },
  {
   "cell_type": "code",
   "execution_count": 11,
   "metadata": {},
   "outputs": [
    {
     "name": "stdout",
     "output_type": "stream",
     "text": [
      "133:21:24.519184\n",
      "66:43:50.409524\n",
      "[199.0, 64.0, 74.928708]\n",
      "74.928708\n",
      "65.0\n",
      "8.0 days, 8:5:14.928708\n"
     ]
    }
   ],
   "source": [
    "print(convert_to_time(k))\n",
    "print(convert_to_time(l))\n",
    "print(add_audio_length(k,l))"
   ]
  },
  {
   "cell_type": "code",
   "execution_count": 12,
   "metadata": {},
   "outputs": [
    {
     "name": "stdout",
     "output_type": "stream",
     "text": [
      "74.928708\n",
      "64.0\n"
     ]
    }
   ],
   "source": [
    "a=[199.0, 64.0, 74.928708]\n",
    "for i in reversed(a[1:]):\n",
    "    print(i)"
   ]
  },
  {
   "cell_type": "code",
   "execution_count": 13,
   "metadata": {},
   "outputs": [
    {
     "data": {
      "text/plain": [
       "8"
      ]
     },
     "execution_count": 13,
     "metadata": {},
     "output_type": "execute_result"
    }
   ],
   "source": [
    "200//24"
   ]
  },
  {
   "cell_type": "code",
   "execution_count": 14,
   "metadata": {},
   "outputs": [
    {
     "name": "stdout",
     "output_type": "stream",
     "text": [
      "[199.0, 64.0, 74.928708]\n",
      "74.928708\n",
      "65.0\n"
     ]
    }
   ],
   "source": [
    "data=merge_json_files(f1,f2)"
   ]
  },
  {
   "cell_type": "code",
   "execution_count": 15,
   "metadata": {},
   "outputs": [
    {
     "name": "stdout",
     "output_type": "stream",
     "text": [
      "{'total_count': 31809, 'dev_count': 0, 'test_count': 0, 'train_count': 31809, 'total_audio_length': '8.0 days, 8:5:14.928708', 'total_audio_length_seconds': 720314.9287074729, 'dev_audio_length_seconds': 0, 'test_audio_length_seconds': 0, 'avg_audio_length': '22.687110479614894s', 'total_transcription_word_count': 1483019, 'avg_transcription_word_count': 45.06783172413175, 'total_transcription_length': 7327447.0, 'avg_transcription_length': 222.82216396925475, 'min_audio_length': '1.008s', 'max_audio_length': '29.0s', 'min_transcription_length': 0.0, 'max_transcription_length': 1187, 'min_transcription_word_count': 1, 'max_transcription_word_count': 260, 'language': {'en': 31809}, 'dialect': {'Indian': 31809}, 'gender': {}, 'age': {}, 'speakers': {}, 'noise_type': {}, 'snr': {}, 'original_samplerate': {}, 'dnsmos': {}, 'empty_transcription': {}, 'ekstep': 31809}\n"
     ]
    }
   ],
   "source": [
    "print(data)"
   ]
  },
  {
   "cell_type": "code",
   "execution_count": 16,
   "metadata": {},
   "outputs": [],
   "source": [
    "save_json(data,\"script.json\")"
   ]
  },
  {
   "cell_type": "code",
   "execution_count": 18,
   "metadata": {},
   "outputs": [],
   "source": [
    "from utils.conversions import sec_to_time"
   ]
  },
  {
   "cell_type": "code",
   "execution_count": 23,
   "metadata": {},
   "outputs": [],
   "source": [
    "import os"
   ]
  },
  {
   "cell_type": "code",
   "execution_count": 3,
   "metadata": {},
   "outputs": [],
   "source": [
    "train=\"/media/dataset-harddisk/munikumar/hindi_dataset/kathbath/kb_data_clean_m4a/hindi/train/audio\"\n",
    "valid=\"/media/dataset-harddisk/munikumar/hindi_dataset/kathbath/kb_data_clean_m4a/hindi/test_known/audio\""
   ]
  },
  {
   "cell_type": "code",
   "execution_count": 4,
   "metadata": {},
   "outputs": [],
   "source": [
    "from pathlib import Path\n",
    "p=Path(valid)"
   ]
  },
  {
   "cell_type": "code",
   "execution_count": 5,
   "metadata": {},
   "outputs": [],
   "source": [
    "all_audio=list(p.glob(\"*\"))"
   ]
  },
  {
   "cell_type": "code",
   "execution_count": 6,
   "metadata": {},
   "outputs": [
    {
     "data": {
      "text/plain": [
       "PosixPath('/media/dataset-harddisk/munikumar/hindi_dataset/kathbath/kb_data_clean_m4a/hindi/test_known/audio/844424933459358-572-m.m4a')"
      ]
     },
     "execution_count": 6,
     "metadata": {},
     "output_type": "execute_result"
    }
   ],
   "source": [
    "all_audio[0]"
   ]
  },
  {
   "cell_type": "code",
   "execution_count": 38,
   "metadata": {},
   "outputs": [],
   "source": [
    "train_audio=sorted(list(os.listdir(train)))\n",
    "valid_audio=sorted(list(os.listdir(valid)))"
   ]
  },
  {
   "cell_type": "code",
   "execution_count": 7,
   "metadata": {},
   "outputs": [],
   "source": [
    "from zspeech.audio.io import load_audio_using_stream_reader\n",
    "from zspeech.utils import np_float32"
   ]
  },
  {
   "cell_type": "code",
   "execution_count": 13,
   "metadata": {},
   "outputs": [],
   "source": [
    "import shutil"
   ]
  },
  {
   "cell_type": "code",
   "execution_count": 18,
   "metadata": {},
   "outputs": [],
   "source": [
    "root_path=Path(\"/media/dataset-harddisk/munikumar/utils/audio_utils/temp\")"
   ]
  },
  {
   "cell_type": "code",
   "execution_count": 19,
   "metadata": {},
   "outputs": [],
   "source": [
    "k=\"kb_clean/hindi\"\n",
    "l=root_path/k"
   ]
  },
  {
   "cell_type": "code",
   "execution_count": 20,
   "metadata": {},
   "outputs": [
    {
     "data": {
      "text/plain": [
       "PosixPath('/media/dataset-harddisk/munikumar/utils/audio_utils/temp/kb_clean/hindi')"
      ]
     },
     "execution_count": 20,
     "metadata": {},
     "output_type": "execute_result"
    }
   ],
   "source": [
    "l"
   ]
  },
  {
   "cell_type": "code",
   "execution_count": null,
   "metadata": {},
   "outputs": [],
   "source": []
  },
  {
   "cell_type": "code",
   "execution_count": 21,
   "metadata": {},
   "outputs": [
    {
     "data": {
      "text/plain": [
       "'/media/dataset-harddisk/munikumar/utils/audio_utils/temp/dataset/transcription.tar'"
      ]
     },
     "execution_count": 21,
     "metadata": {},
     "output_type": "execute_result"
    }
   ],
   "source": [
    "\n",
    "shutil.make_archive(root_path/\"dataset\"/\"transcription\",\n",
    "                    format=\"tar\",\n",
    "                    root_dir=root_path,\n",
    "                    base_dir=l.parent.name)"
   ]
  },
  {
   "cell_type": "code",
   "execution_count": null,
   "metadata": {},
   "outputs": [],
   "source": [
    "shutil.make_archive(base_name=root_dir/\"dataset_path\"/\"transcripts_n2w\",\n",
    "                        format=\"tar\",\n",
    "                        root_dir=root_dir/\"transcription\",\n",
    "                        base_dir=root_transcription_dir.parent.name)"
   ]
  },
  {
   "cell_type": "code",
   "execution_count": 23,
   "metadata": {},
   "outputs": [],
   "source": [
    "import re"
   ]
  },
  {
   "cell_type": "code",
   "execution_count": 28,
   "metadata": {},
   "outputs": [
    {
     "name": "stdout",
     "output_type": "stream",
     "text": [
      "There are 10056 + 44 ' 65 dogs.\n"
     ]
    }
   ],
   "source": [
    "text = \"There are10056+44'65 dogs.\"\n",
    "text = re.sub(r' ?(\\d+) ?', r' \\1 ', text)\n",
    "print(text)\n",
    "        "
   ]
  },
  {
   "cell_type": "code",
   "execution_count": 1,
   "metadata": {},
   "outputs": [],
   "source": [
    "from utils.audio_utils import get_audio_info"
   ]
  },
  {
   "cell_type": "code",
   "execution_count": 2,
   "metadata": {},
   "outputs": [],
   "source": [
    "from pathlib import Path"
   ]
  },
  {
   "cell_type": "code",
   "execution_count": 3,
   "metadata": {},
   "outputs": [],
   "source": [
    "p=Path(\"/media/dataset-harddisk/munikumar/utils/audio_utils/data/kathbath/audio/hindi/train/audio\")"
   ]
  },
  {
   "cell_type": "code",
   "execution_count": 4,
   "metadata": {},
   "outputs": [],
   "source": [
    "all_audio=list(p.glob(\"*\"))"
   ]
  },
  {
   "cell_type": "code",
   "execution_count": 5,
   "metadata": {},
   "outputs": [
    {
     "data": {
      "text/plain": [
       "[PosixPath('/media/dataset-harddisk/munikumar/utils/audio_utils/data/kathbath/audio/hindi/train/audio/844424932457785-1102-f.m4a'),\n",
       " PosixPath('/media/dataset-harddisk/munikumar/utils/audio_utils/data/kathbath/audio/hindi/train/audio/844424931050953-590-f.m4a'),\n",
       " PosixPath('/media/dataset-harddisk/munikumar/utils/audio_utils/data/kathbath/audio/hindi/train/audio/844424930557794-448-f.m4a'),\n",
       " PosixPath('/media/dataset-harddisk/munikumar/utils/audio_utils/data/kathbath/audio/hindi/train/audio/844424930667610-229-f.m4a'),\n",
       " PosixPath('/media/dataset-harddisk/munikumar/utils/audio_utils/data/kathbath/audio/hindi/train/audio/844424931187976-1133-m.m4a'),\n",
       " PosixPath('/media/dataset-harddisk/munikumar/utils/audio_utils/data/kathbath/audio/hindi/train/audio/844424932735002-645-f.m4a'),\n",
       " PosixPath('/media/dataset-harddisk/munikumar/utils/audio_utils/data/kathbath/audio/hindi/train/audio/844424933457767-1191-m.m4a'),\n",
       " PosixPath('/media/dataset-harddisk/munikumar/utils/audio_utils/data/kathbath/audio/hindi/train/audio/844424932336730-384-f.m4a'),\n",
       " PosixPath('/media/dataset-harddisk/munikumar/utils/audio_utils/data/kathbath/audio/hindi/train/audio/844424930568696-939-f.m4a'),\n",
       " PosixPath('/media/dataset-harddisk/munikumar/utils/audio_utils/data/kathbath/audio/hindi/train/audio/844424930913658-1059-m.m4a')]"
      ]
     },
     "execution_count": 5,
     "metadata": {},
     "output_type": "execute_result"
    }
   ],
   "source": [
    "all_audio[0:10]"
   ]
  },
  {
   "cell_type": "code",
   "execution_count": 7,
   "metadata": {},
   "outputs": [],
   "source": [
    "from utils.file_utils import copy_files"
   ]
  },
  {
   "cell_type": "code",
   "execution_count": 8,
   "metadata": {},
   "outputs": [],
   "source": [
    "dst=\"/media/dataset-harddisk/munikumar/hindi_dataset/\""
   ]
  },
  {
   "cell_type": "code",
   "execution_count": 10,
   "metadata": {},
   "outputs": [],
   "source": [
    "for audio_file in all_audio[:20]:\n",
    "    copy_files(audio_file,dst)"
   ]
  },
  {
   "cell_type": "code",
   "execution_count": 16,
   "metadata": {},
   "outputs": [
    {
     "name": "stdout",
     "output_type": "stream",
     "text": [
      "mov,mp4,m4a,3gp,3g2,mj2\n",
      "44100\n",
      "1\n",
      "0\n",
      "128000\n"
     ]
    }
   ],
   "source": [
    "import subprocess\n",
    "import json\n",
    "\n",
    "filename = all_audio[6]\n",
    "\n",
    "cmd = ['ffprobe', '-v', 'quiet', '-print_format', 'json', '-show_format', '-show_streams', filename]\n",
    "\n",
    "output = subprocess.check_output(cmd, stderr=subprocess.STDOUT)\n",
    "data = json.loads(output)\n",
    "\n",
    "print(data['format']['format_name']) # codec\n",
    "print(data['streams'][0]['sample_rate']) \n",
    "print(data['streams'][0]['channels'])\n",
    "print(data['streams'][0]['bits_per_sample']) # bit_depth \n",
    "print(data['streams'][0]['bit_rate'])"
   ]
  },
  {
   "cell_type": "code",
   "execution_count": 18,
   "metadata": {},
   "outputs": [
    {
     "data": {
      "text/plain": [
       "150"
      ]
     },
     "execution_count": 18,
     "metadata": {},
     "output_type": "execute_result"
    }
   ],
   "source": [
    "137+5+8"
   ]
  },
  {
   "cell_type": "code",
   "execution_count": 20,
   "metadata": {},
   "outputs": [
    {
     "data": {
      "text/plain": [
       "98.80000000000001"
      ]
     },
     "execution_count": 20,
     "metadata": {},
     "output_type": "execute_result"
    }
   ],
   "source": [
    "3.3+1.4+3.4+2.1+85+3.4+0.2"
   ]
  },
  {
   "cell_type": "code",
   "execution_count": null,
   "metadata": {},
   "outputs": [],
   "source": [
    "3.3G    testkn_audio.tar\n",
    "1.4G    testunk_audio.tar\n",
    "15M     transcripts_n2w.tar\n",
    "3.4G    testkn_audio.tar\n",
    "2.1G    testunk_audio.tar\n",
    "85G     train_audio.tar\n",
    "200M    transcripts_n2w.tar\n",
    "3.4G    valid_audio.tar"
   ]
  },
  {
   "cell_type": "code",
   "execution_count": 21,
   "metadata": {},
   "outputs": [
    {
     "data": {
      "text/plain": [
       "105105"
      ]
     },
     "execution_count": 21,
     "metadata": {},
     "output_type": "execute_result"
    }
   ],
   "source": [
    "3847+92978+8280"
   ]
  },
  {
   "cell_type": "code",
   "execution_count": null,
   "metadata": {},
   "outputs": [],
   "source": [
    "\"language\": {\n",
    "        \"hi\": 3847\n",
    "    },\n",
    "    \"dialect\": {\n",
    "        \"Indian\": 3847\n",
    "    },\n",
    "\"gender\": {\n",
    "        \"Female\": 2293,\n",
    "        \"Male\": 1554\n",
    "    },"
   ]
  },
  {
   "cell_type": "code",
   "execution_count": null,
   "metadata": {},
   "outputs": [],
   "source": [
    "\"language\": {\n",
    "        \"hi\": 92978\n",
    "    },\n",
    "    \"dialect\": {\n",
    "        \"Indian\": 92978\n",
    "    },\n",
    "    \"gender\": {\n",
    "        \"Female\": 68518,\n",
    "        \"Male\": 24460\n",
    "    },"
   ]
  },
  {
   "cell_type": "code",
   "execution_count": 22,
   "metadata": {},
   "outputs": [
    {
     "data": {
      "text/plain": [
       "75311"
      ]
     },
     "execution_count": 22,
     "metadata": {},
     "output_type": "execute_result"
    }
   ],
   "source": [
    "4500+68518+2293"
   ]
  },
  {
   "cell_type": "code",
   "execution_count": 23,
   "metadata": {},
   "outputs": [
    {
     "data": {
      "text/plain": [
       "29794"
      ]
     },
     "execution_count": 23,
     "metadata": {},
     "output_type": "execute_result"
    }
   ],
   "source": [
    "3780+24460+1554"
   ]
  },
  {
   "cell_type": "code",
   "execution_count": 24,
   "metadata": {},
   "outputs": [
    {
     "data": {
      "text/plain": [
       "105105"
      ]
     },
     "execution_count": 24,
     "metadata": {},
     "output_type": "execute_result"
    }
   ],
   "source": [
    "75311+29794"
   ]
  },
  {
   "cell_type": "code",
   "execution_count": 26,
   "metadata": {},
   "outputs": [
    {
     "data": {
      "text/plain": [
       "0.28346891204034064"
      ]
     },
     "execution_count": 26,
     "metadata": {},
     "output_type": "execute_result"
    }
   ],
   "source": [
    "29794/105105"
   ]
  },
  {
   "cell_type": "code",
   "execution_count": null,
   "metadata": {},
   "outputs": [],
   "source": [
    "\"language\": {\n",
    "        \"hi\": 8280\n",
    "    },\n",
    "    \"dialect\": {\n",
    "        \"Indian\": 8280\n",
    "    },\n",
    "    \"gender\": {\n",
    "        \"Female\": 4500,\n",
    "        \"Male\": 3780\n",
    "    },"
   ]
  },
  {
   "cell_type": "code",
   "execution_count": 27,
   "metadata": {},
   "outputs": [],
   "source": [
    "p=Path(\"/media/dataset-harddisk/munikumar/utils/audio_utils/data/kathbath\")"
   ]
  },
  {
   "cell_type": "code",
   "execution_count": 28,
   "metadata": {},
   "outputs": [],
   "source": [
    "male=0\n",
    "female=0\n",
    "for file in p.rglob(\"*.m4a\"):\n",
    "    if file.stem[-1]==\"m\":\n",
    "        male+=1\n",
    "    else:\n",
    "        female+=1"
   ]
  },
  {
   "cell_type": "code",
   "execution_count": 29,
   "metadata": {},
   "outputs": [
    {
     "data": {
      "text/plain": [
       "29830"
      ]
     },
     "execution_count": 29,
     "metadata": {},
     "output_type": "execute_result"
    }
   ],
   "source": [
    "male"
   ]
  },
  {
   "cell_type": "code",
   "execution_count": 30,
   "metadata": {},
   "outputs": [
    {
     "data": {
      "text/plain": [
       "75332"
      ]
     },
     "execution_count": 30,
     "metadata": {},
     "output_type": "execute_result"
    }
   ],
   "source": [
    "female"
   ]
  },
  {
   "cell_type": "code",
   "execution_count": 32,
   "metadata": {},
   "outputs": [
    {
     "data": {
      "text/plain": [
       "92978"
      ]
     },
     "execution_count": 32,
     "metadata": {},
     "output_type": "execute_result"
    }
   ],
   "source": [
    "68518+24460"
   ]
  },
  {
   "cell_type": "code",
   "execution_count": 31,
   "metadata": {},
   "outputs": [
    {
     "data": {
      "text/plain": [
       "105162"
      ]
     },
     "execution_count": 31,
     "metadata": {},
     "output_type": "execute_result"
    }
   ],
   "source": [
    "male+female"
   ]
  },
  {
   "cell_type": "code",
   "execution_count": 1,
   "metadata": {},
   "outputs": [],
   "source": [
    "from utils.file_utils import read_csv"
   ]
  },
  {
   "cell_type": "code",
   "execution_count": 2,
   "metadata": {},
   "outputs": [],
   "source": [
    "p=\"/media/dataset-harddisk/munikumar/hindi_dataset/kathbath_processed/training/train.csv\""
   ]
  },
  {
   "cell_type": "code",
   "execution_count": 18,
   "metadata": {},
   "outputs": [],
   "source": [
    "def find_duplicates(list_with_dupes):\n",
    "  duplicates = []\n",
    "  unique_elements = []\n",
    "\n",
    "  for element in list_with_dupes:\n",
    "    if element not in unique_elements:\n",
    "      unique_elements.append(element)\n",
    "    else:\n",
    "      duplicates.append(element)\n",
    "\n",
    "  return duplicates\n"
   ]
  },
  {
   "cell_type": "code",
   "execution_count": 21,
   "metadata": {},
   "outputs": [
    {
     "data": {
      "text/plain": [
       "['329', '1128', '1148', '590', '590', '268', '590', '130', '329', '1128']"
      ]
     },
     "execution_count": 21,
     "metadata": {},
     "output_type": "execute_result"
    }
   ],
   "source": [
    "\n",
    "speaker_ids=[row[0].split(\"_\")[1] for row in read_csv(p)]\n",
    "\n"
   ]
  },
  {
   "cell_type": "code",
   "execution_count": 24,
   "metadata": {},
   "outputs": [
    {
     "data": {
      "text/plain": [
       "101"
      ]
     },
     "execution_count": 24,
     "metadata": {},
     "output_type": "execute_result"
    }
   ],
   "source": [
    "len(set(speaker_ids))"
   ]
  },
  {
   "cell_type": "code",
   "execution_count": 8,
   "metadata": {},
   "outputs": [
    {
     "data": {
      "text/plain": [
       "24460"
      ]
     },
     "execution_count": 8,
     "metadata": {},
     "output_type": "execute_result"
    }
   ],
   "source": [
    "male"
   ]
  },
  {
   "cell_type": "code",
   "execution_count": 29,
   "metadata": {},
   "outputs": [
    {
     "name": "stderr",
     "output_type": "stream",
     "text": [
      "100%|██████████| 16574/16574 [02:15<00:00, 122.50it/s]"
     ]
    },
    {
     "name": "stdout",
     "output_type": "stream",
     "text": [
      "Compressed archive created!\n"
     ]
    },
    {
     "name": "stderr",
     "output_type": "stream",
     "text": [
      "\n"
     ]
    }
   ],
   "source": [
    "import os\n",
    "import tarfile\n",
    "from pathlib import Path\n",
    "from tqdm import tqdm\n",
    "root_path=Path(\"/media/dataset-harddisk/munikumar/hindi_dataset/benchmarks/ekstep/benchmark/audio\")\n",
    "all_files=list(root_path.glob(\"*\"))\n",
    "\n",
    "with tarfile.open('zvoice_hindi_688_hrs.tar.gz', 'w:gz') as tar:\n",
    "    tar.add(str(root_path),arcname=\"hindi\",recursive=False)\n",
    "    for file in tqdm(all_files):\n",
    "        tar.add(str(file),arcname=f\"hindi/{file.name}\")\n",
    "\n",
    "print('Compressed archive created!')"
   ]
  },
  {
   "cell_type": "code",
   "execution_count": 1,
   "metadata": {},
   "outputs": [],
   "source": [
    "import csv"
   ]
  },
  {
   "cell_type": "code",
   "execution_count": 2,
   "metadata": {},
   "outputs": [],
   "source": [
    "metadata=[[\"Uttids\",\"Accent\",\"Age\",\"Gender\",\"Background\",\"Sentiment\",\"District\",\"State\",\"Other\"],\n",
    "[\"01-00004-02\",\"Bhojpuri\",\"Adult\",\"Male\",\"NA\",\"NA\",\"NA\",\"NA\",\"NA\"],\n",
    "[\"01-00008-03\",\"Bihari  Adult\",\"Female\",\"NA\",\"Serious\",\"NA\",\"Bihar\",\"NA\"],\n",
    "[\"01-00666-01\",\"Bengali\",\"child\",\"Male\",\"NA\",\"NA\",\"NA\",\"NA\",\"NA\"]]"
   ]
  },
  {
   "cell_type": "code",
   "execution_count": 1,
   "metadata": {},
   "outputs": [
    {
     "name": "stdout",
     "output_type": "stream",
     "text": [
      "True\n"
     ]
    }
   ],
   "source": [
    "print(\"blindtest\" in \"subtask1_blindtest_wReadme\")"
   ]
  },
  {
   "cell_type": "code",
   "execution_count": null,
   "metadata": {},
   "outputs": [],
   "source": []
  }
 ],
 "metadata": {
  "kernelspec": {
   "display_name": "practice",
   "language": "python",
   "name": "python3"
  },
  "language_info": {
   "codemirror_mode": {
    "name": "ipython",
    "version": 3
   },
   "file_extension": ".py",
   "mimetype": "text/x-python",
   "name": "python",
   "nbconvert_exporter": "python",
   "pygments_lexer": "ipython3",
   "version": "3.9.17"
  },
  "orig_nbformat": 4
 },
 "nbformat": 4,
 "nbformat_minor": 2
}
