{
 "cells": [
  {
   "cell_type": "code",
   "execution_count": 1,
   "metadata": {},
   "outputs": [],
   "source": [
    "import sys\n",
    "sys.path.append(\"..\")\n",
    "from pathlib import Path\n",
    "import plotly.graph_objects as px\n",
    "from utils.transcription_utils import get_transcription_info,get_stats,get_total_stats\n",
    "import csv\n",
    "import pandas as pd\n",
    "import json"
   ]
  },
  {
   "cell_type": "code",
   "execution_count": 2,
   "metadata": {},
   "outputs": [],
   "source": [
    "save_path=Path(\"/media/dataset-harddisk/munikumar/utils/audio_utils/data/ekstep/normalized\")"
   ]
  },
  {
   "cell_type": "code",
   "execution_count": 3,
   "metadata": {},
   "outputs": [],
   "source": [
    "dataset_dir=Path(\"/media/dataset-harddisk/munikumar/hindi_dataset/ekstep/ekstep_raw/ekstep_benchmark/Hindi_benchmarking_dataset_external_21-03-2022_06-46\")"
   ]
  },
  {
   "cell_type": "code",
   "execution_count": 4,
   "metadata": {},
   "outputs": [],
   "source": [
    "def load_transcription(transcription_path):\n",
    "    transcription_data={}\n",
    "    with open(transcription_path) as audio_data_file:\n",
    "        data = json.load(audio_data_file)\n",
    "    for audio_data in data:\n",
    "        transcription_data[audio_data[\"audioFilename\"]]=audio_data[\"text\"]\n",
    "    return transcription_data"
   ]
  },
  {
   "cell_type": "code",
   "execution_count": 5,
   "metadata": {},
   "outputs": [
    {
     "name": "stdout",
     "output_type": "stream",
     "text": [
      "getting audio info about : normalized - test\n"
     ]
    },
    {
     "name": "stderr",
     "output_type": "stream",
     "text": [
      "100%|██████████| 11064/11064 [12:48<00:00, 14.39it/s]\n"
     ]
    },
    {
     "name": "stdout",
     "output_type": "stream",
     "text": [
      "**************************************************\n",
      "Loss of audio data without transcription normalization:\n",
      "**************************************************\n",
      "Total duration : 20:31:33\n",
      "Loss duration : 3:54:39\n",
      "Remaining duration : 16:36:54\n",
      "Drop by percentage: 19.05\n",
      "\n",
      "Total audio files : 11064\n",
      "Files that would be drop: 1820\n",
      "Remaining audio files : 9244\n",
      "Drop by percentage: 16.45\n",
      "**************************************************\n",
      "Non hindi tokes : ['0', '1', '2', '3', '4', '5', '6', '7', '8', '9', 'B', 'E', 'G', 'H', 'I', 'K', 'M', 'N', 'a', 'b', 'c', 'd', 'e', 'g', 'h', 'i', 'j', 'k', 'l', 'm', 'n', 'o', 'p', 'r', 's', 't', 'u', 'v', 'w']\n"
     ]
    }
   ],
   "source": [
    "transcription_data=load_transcription(dataset_dir/\"data.json\")\n",
    "get_transcription_info(transcription_data,dataset_dir,save_path,\"test\")\n",
    "get_stats(save_path/\"test_non_hindi_transcripts.json\")"
   ]
  },
  {
   "cell_type": "markdown",
   "metadata": {},
   "source": [
    "### Test Dataset\n",
    "**************************************************\n",
    "Loss of audio data without transcription normalization:\n",
    "**************************************************\n",
    "Total duration : 20:31:33  \n",
    "Loss duration : 4:54:32  \n",
    "Remaining duration : 15:37:1  \n",
    "Drop by percentage: 23.92  \n",
    "\n",
    "Total audio files : 11064  \n",
    "Files that would be drop: 2093  \n",
    "Remaining audio files : 8971  \n",
    "Drop by percentage: 18.92  \n",
    "**************************************************\n",
    "Non hindi tokes : ['%', '*', '+', '-', '.', '0', '1', '2', '3', '4', '5', '6', '7', '8', '9', ':', 'B', 'E', 'G', 'H', 'I', 'K', 'M', 'N', 'a', 'b', 'c', 'd', 'e', 'g', 'h', 'i', 'j', 'k', 'l', 'm', 'n', 'o', 'p', 'r', 's', 't', 'u', 'v', 'w', '₹']\n",
    "\n",
    "**************************************************\n",
    "Loss of audio data with transcription normalization:\n",
    "**************************************************\n",
    "Total duration : 20:31:33  \n",
    "Loss duration : 3:54:39  \n",
    "Remaining duration : 16:36:54  \n",
    "Drop by percentage: 19.05  \n",
    "\n",
    "Total audio files : 11064  \n",
    "Files that would be drop: 1820  \n",
    "Remaining audio files : 9244  \n",
    "Drop by percentage: 16.45  \n",
    "**************************************************\n",
    "Non hindi tokes : ['0', '1', '2', '3', '4', '5', '6', '7', '8', '9', 'B', 'E', 'G', 'H', 'I', 'K', 'M', 'N', 'a', 'b', 'c', 'd', 'e', 'g', 'h', 'i', 'j', 'k', 'l', 'm', 'n', 'o', 'p', 'r', 's', 't', 'u', 'v', 'w']"
   ]
  },
  {
   "cell_type": "code",
   "execution_count": null,
   "metadata": {},
   "outputs": [],
   "source": []
  }
 ],
 "metadata": {
  "kernelspec": {
   "display_name": "practice",
   "language": "python",
   "name": "python3"
  },
  "language_info": {
   "codemirror_mode": {
    "name": "ipython",
    "version": 3
   },
   "file_extension": ".py",
   "mimetype": "text/x-python",
   "name": "python",
   "nbconvert_exporter": "python",
   "pygments_lexer": "ipython3",
   "version": "3.9.17"
  },
  "orig_nbformat": 4
 },
 "nbformat": 4,
 "nbformat_minor": 2
}
