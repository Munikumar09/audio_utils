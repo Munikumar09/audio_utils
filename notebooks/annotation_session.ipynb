{
 "cells": [
  {
   "cell_type": "code",
   "execution_count": null,
   "metadata": {},
   "outputs": [],
   "source": [
    "\n",
    "import sys\n",
    "sys.path.append(\"..\")\n",
    "import json\n",
    "from pathlib import Path\n",
    "from utils.file_utils import remove_file,copy_files\n",
    "from utils.media_utils import video_to_audio\n",
    "from utils.audio_utils import get_total_audio_duration\n",
    "from utils.conversions import sec_to_time\n",
    "from utils.transcription_utils import get_empty_transcription"
   ]
  },
  {
   "cell_type": "code",
   "execution_count": null,
   "metadata": {},
   "outputs": [],
   "source": [
    "audio_path=Path(\"/media/dataset-harddisk/munikumar/utils/audio_utils/data/test_audio\")"
   ]
  },
  {
   "cell_type": "code",
   "execution_count": null,
   "metadata": {},
   "outputs": [],
   "source": [
    "# for audio in audio_path.glob(\"*.mp4\"):\n",
    "#         video_to_audio(str(audio),audio_path.parent,format=\"mp3\")"
   ]
  },
  {
   "cell_type": "code",
   "execution_count": null,
   "metadata": {},
   "outputs": [],
   "source": [
    "# duration=get_total_audio_duration(list(audio_path.glob(\"*\")))"
   ]
  },
  {
   "cell_type": "code",
   "execution_count": null,
   "metadata": {},
   "outputs": [],
   "source": [
    "split_path=Path(\"/media/dataset-harddisk/munikumar/utils/audio_utils/data/test_audio/split_audio\")"
   ]
  },
  {
   "cell_type": "code",
   "execution_count": null,
   "metadata": {},
   "outputs": [],
   "source": [
    "duration_split=get_total_audio_duration(list(split_path.rglob(\"*.mp3\")))"
   ]
  },
  {
   "cell_type": "code",
   "execution_count": null,
   "metadata": {},
   "outputs": [],
   "source": [
    "dst=\"/media/dataset-harddisk/munikumar/utils/audio_utils/data/test_audio/total_split\""
   ]
  },
  {
   "cell_type": "code",
   "execution_count": null,
   "metadata": {},
   "outputs": [],
   "source": [
    "# for audio in split_path.rglob(\"*.mp3\"):\n",
    "    # copy_files(audio,dst)"
   ]
  },
  {
   "cell_type": "code",
   "execution_count": null,
   "metadata": {},
   "outputs": [],
   "source": [
    "duration_all=get_total_audio_duration(list(Path(dst).rglob(\"*.mp3\")))"
   ]
  },
  {
   "cell_type": "code",
   "execution_count": null,
   "metadata": {},
   "outputs": [],
   "source": [
    "duration_all"
   ]
  },
  {
   "cell_type": "code",
   "execution_count": null,
   "metadata": {},
   "outputs": [],
   "source": [
    "transcription_path=Path(\"/media/dataset-harddisk/munikumar/utils/audio_utils/data/test_audio/whisper_results\")"
   ]
  },
  {
   "cell_type": "code",
   "execution_count": null,
   "metadata": {},
   "outputs": [],
   "source": [
    "empty_transcriptions=[]\n",
    "for transcription in transcription_path.glob(\"*\"):\n",
    "    if not get_empty_transcription(transcription):\n",
    "        print(f\"'{transcription}'\")\n",
    "        empty_transcriptions.append(Path(dst)/f\"{transcription.stem}.mp3\")"
   ]
  },
  {
   "cell_type": "code",
   "execution_count": null,
   "metadata": {},
   "outputs": [],
   "source": [
    "empty_transcriptions"
   ]
  },
  {
   "cell_type": "code",
   "execution_count": null,
   "metadata": {},
   "outputs": [],
   "source": [
    "empty_transcription_duration=get_total_audio_duration(empty_transcriptions)"
   ]
  },
  {
   "cell_type": "code",
   "execution_count": null,
   "metadata": {},
   "outputs": [],
   "source": [
    "empty_transcription_duration"
   ]
  },
  {
   "cell_type": "code",
   "execution_count": 1,
   "metadata": {},
   "outputs": [],
   "source": [
    "from zspeech.preprocessing.utils.shard_utils import create_shards"
   ]
  },
  {
   "cell_type": "code",
   "execution_count": 2,
   "metadata": {},
   "outputs": [
    {
     "name": "stdout",
     "output_type": "stream",
     "text": [
      "# writing /media/dataset-harddisk/munikumar/utils/audio_utils/data/test_audio/audio-0000.tgz 0 0.0 GB 0\n",
      "# writing /media/dataset-harddisk/munikumar/utils/audio_utils/data/test_audio/audio-0001.tgz 199 0.8 GB 199\n",
      "# writing /media/dataset-harddisk/munikumar/utils/audio_utils/data/test_audio/audio-0002.tgz 199 0.8 GB 398\n",
      "# writing /media/dataset-harddisk/munikumar/utils/audio_utils/data/test_audio/audio-0003.tgz 199 0.8 GB 597\n"
     ]
    },
    {
     "data": {
      "text/plain": [
       "False"
      ]
     },
     "execution_count": 2,
     "metadata": {},
     "output_type": "execute_result"
    }
   ],
   "source": [
    "create_shards(\"/media/dataset-harddisk/munikumar/utils/audio_utils/data/test_audio/wavs\",\"/media/dataset-harddisk/munikumar/utils/audio_utils/data/test_audio\",auto_choose=True)"
   ]
  }
 ],
 "metadata": {
  "kernelspec": {
   "display_name": "practice",
   "language": "python",
   "name": "python3"
  },
  "language_info": {
   "codemirror_mode": {
    "name": "ipython",
    "version": 3
   },
   "file_extension": ".py",
   "mimetype": "text/x-python",
   "name": "python",
   "nbconvert_exporter": "python",
   "pygments_lexer": "ipython3",
   "version": "3.9.17"
  },
  "orig_nbformat": 4
 },
 "nbformat": 4,
 "nbformat_minor": 2
}
