{
 "cells": [
  {
   "cell_type": "code",
   "execution_count": 1,
   "metadata": {},
   "outputs": [],
   "source": [
    "import sys\n",
    "sys.path.append(\"..\")\n",
    "import json\n",
    "from pathlib import Path\n",
    "from utils.file_utils import remove_file\n"
   ]
  },
  {
   "cell_type": "code",
   "execution_count": 2,
   "metadata": {},
   "outputs": [],
   "source": [
    "session_path=Path(\"/media/dataset-harddisk/sumit/zspeech/tasks/annotation/zvoice_call_recordings_30/review_sessions/sessions\")"
   ]
  },
  {
   "cell_type": "code",
   "execution_count": 3,
   "metadata": {},
   "outputs": [],
   "source": [
    "all_files={}\n",
    "for i in range(1,6):\n",
    "    session=session_path/f\"session{i}\"/\"completions\"\n",
    "    json_files=list(session.glob(\"*.json\"))\n",
    "    files_to_remove=[]\n",
    "    for file in json_files:\n",
    "        try:\n",
    "            with open(file)as fp:\n",
    "                data=json.load(fp)\n",
    "            if len(data)==0:\n",
    "                files_to_remove.append(str(file))\n",
    "        except:\n",
    "            files_to_remove.append(str(file))\n",
    "    all_files[session.parent.name]=files_to_remove"
   ]
  },
  {
   "cell_type": "code",
   "execution_count": 4,
   "metadata": {},
   "outputs": [
    {
     "ename": "PermissionError",
     "evalue": "[Errno 13] Permission denied: '/media/dataset-harddisk/sumit/zspeech/tasks/annotation/zvoice_call_recordings_30/review_sessions/sessions/session1/completions/3875.json'",
     "output_type": "error",
     "traceback": [
      "\u001b[0;31m---------------------------------------------------------------------------\u001b[0m",
      "\u001b[0;31mPermissionError\u001b[0m                           Traceback (most recent call last)",
      "Cell \u001b[0;32mIn[4], line 3\u001b[0m\n\u001b[1;32m      1\u001b[0m \u001b[39mfor\u001b[39;00m k,v \u001b[39min\u001b[39;00m all_files\u001b[39m.\u001b[39mitems():\n\u001b[1;32m      2\u001b[0m     \u001b[39mfor\u001b[39;00m file \u001b[39min\u001b[39;00m v:\n\u001b[0;32m----> 3\u001b[0m         remove_file(file)\n",
      "File \u001b[0;32m/media/dataset-harddisk/munikumar/utils/audio_utils/notebooks/../utils/file_utils.py:50\u001b[0m, in \u001b[0;36mremove_file\u001b[0;34m(file_path)\u001b[0m\n\u001b[1;32m     48\u001b[0m \u001b[39mdef\u001b[39;00m \u001b[39mremove_file\u001b[39m(file_path):\n\u001b[1;32m     49\u001b[0m     \u001b[39mif\u001b[39;00m os\u001b[39m.\u001b[39mpath\u001b[39m.\u001b[39mexists(file_path):\n\u001b[0;32m---> 50\u001b[0m         os\u001b[39m.\u001b[39;49mremove(file_path)\n\u001b[1;32m     51\u001b[0m         \u001b[39mprint\u001b[39m(\u001b[39m'\u001b[39m\u001b[39mFile removed successfully!\u001b[39m\u001b[39m'\u001b[39m)\n\u001b[1;32m     52\u001b[0m     \u001b[39melse\u001b[39;00m:\n",
      "\u001b[0;31mPermissionError\u001b[0m: [Errno 13] Permission denied: '/media/dataset-harddisk/sumit/zspeech/tasks/annotation/zvoice_call_recordings_30/review_sessions/sessions/session1/completions/3875.json'"
     ]
    }
   ],
   "source": [
    "for k,v in all_files.items():\n",
    "    for file in v:\n",
    "        remove_file(file)"
   ]
  },
  {
   "cell_type": "code",
   "execution_count": null,
   "metadata": {},
   "outputs": [],
   "source": []
  },
  {
   "cell_type": "code",
   "execution_count": null,
   "metadata": {},
   "outputs": [],
   "source": []
  }
 ],
 "metadata": {
  "kernelspec": {
   "display_name": "practice",
   "language": "python",
   "name": "python3"
  },
  "language_info": {
   "codemirror_mode": {
    "name": "ipython",
    "version": 3
   },
   "file_extension": ".py",
   "mimetype": "text/x-python",
   "name": "python",
   "nbconvert_exporter": "python",
   "pygments_lexer": "ipython3",
   "version": "3.9.17"
  },
  "orig_nbformat": 4
 },
 "nbformat": 4,
 "nbformat_minor": 2
}
