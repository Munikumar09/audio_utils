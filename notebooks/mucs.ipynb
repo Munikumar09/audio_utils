{
 "cells": [
  {
   "cell_type": "code",
   "execution_count": 1,
   "metadata": {},
   "outputs": [],
   "source": [
    "import sys\n",
    "sys.path.append(\"..\")\n",
    "from utils.audio_utils import get_total_audio_duration,get_audio_info,get_duration_ffprobe\n",
    "from pathlib import Path\n",
    "from tqdm import tqdm\n",
    "from utils.file_utils import save_json\n",
    "from utils.transcription_utils import clean_and_verify_transcript_hi\n",
    "from collections import Counter\n",
    "from utils.conversions import sec_to_time"
   ]
  },
  {
   "cell_type": "code",
   "execution_count": 2,
   "metadata": {},
   "outputs": [],
   "source": [
    "save_path=Path(\"/media/dataset-harddisk/munikumar/utils/audio_utils/data/mucs\")"
   ]
  },
  {
   "cell_type": "code",
   "execution_count": 3,
   "metadata": {},
   "outputs": [],
   "source": [
    "dev_dir=Path(\"/media/dataset-harddisk/munikumar/hindi_dataset/mucs/mucs_raw/test\")\n",
    "train_dir=Path(\"/media/dataset-harddisk/munikumar/hindi_dataset/mucs/mucs_raw/train\")\n",
    "test_dir=Path(\"/media/dataset-harddisk/munikumar/hindi_dataset/mucs/mucs_raw/subtask1_blindtest_wReadme/Hindi\")\n"
   ]
  },
  {
   "cell_type": "code",
   "execution_count": 4,
   "metadata": {},
   "outputs": [],
   "source": [
    "def save_duration_data(dataset_path):\n",
    "    audio_path=dataset_path/\"audio\"\n",
    "    audio_data=[]\n",
    "    all_audio=list(audio_path.glob(\"*\"))\n",
    "    \n",
    "    print(\"getting audio duration ...\")\n",
    "    duration=get_total_audio_duration(all_audio)\n",
    "    save_json(duration,save_path=save_path/f\"mucs_{audio_path.parent.name}_duration.json\")\n",
    "    \n",
    "    print(\"getting audio info ...\")\n",
    "    for audio in tqdm(all_audio):\n",
    "        data=get_audio_info(str(audio))\n",
    "        audio_data.append(data)\n",
    "    save_json(audio_data,save_path=save_path/f\"mucs_{audio_path.parent.name}_info.json\")\n",
    "    "
   ]
  },
  {
   "cell_type": "code",
   "execution_count": 5,
   "metadata": {},
   "outputs": [
    {
     "name": "stdout",
     "output_type": "stream",
     "text": [
      "getting audio duration ...\n"
     ]
    },
    {
     "name": "stderr",
     "output_type": "stream",
     "text": [
      "100%|██████████| 3843/3843 [01:41<00:00, 37.92it/s]\n"
     ]
    },
    {
     "name": "stdout",
     "output_type": "stream",
     "text": [
      "getting audio info ...\n"
     ]
    },
    {
     "name": "stderr",
     "output_type": "stream",
     "text": [
      "100%|██████████| 3843/3843 [04:51<00:00, 13.20it/s]\n"
     ]
    }
   ],
   "source": [
    "save_duration_data(dev_dir)"
   ]
  },
  {
   "cell_type": "code",
   "execution_count": 6,
   "metadata": {},
   "outputs": [
    {
     "name": "stdout",
     "output_type": "stream",
     "text": [
      "getting audio duration ...\n"
     ]
    },
    {
     "name": "stderr",
     "output_type": "stream",
     "text": [
      "100%|██████████| 99925/99925 [53:28<00:00, 31.15it/s]  \n"
     ]
    },
    {
     "name": "stdout",
     "output_type": "stream",
     "text": [
      "getting audio info ...\n"
     ]
    },
    {
     "name": "stderr",
     "output_type": "stream",
     "text": [
      "100%|██████████| 99925/99925 [1:55:50<00:00, 14.38it/s]  \n"
     ]
    }
   ],
   "source": [
    "save_duration_data(train_dir)\n"
   ]
  },
  {
   "cell_type": "code",
   "execution_count": 7,
   "metadata": {},
   "outputs": [
    {
     "name": "stdout",
     "output_type": "stream",
     "text": [
      "getting audio duration ...\n"
     ]
    },
    {
     "name": "stderr",
     "output_type": "stream",
     "text": [
      "100%|██████████| 3897/3897 [00:24<00:00, 162.16it/s]\n"
     ]
    },
    {
     "name": "stdout",
     "output_type": "stream",
     "text": [
      "getting audio info ...\n"
     ]
    },
    {
     "name": "stderr",
     "output_type": "stream",
     "text": [
      "100%|██████████| 3897/3897 [03:34<00:00, 18.14it/s]\n"
     ]
    }
   ],
   "source": [
    "save_duration_data(test_dir)"
   ]
  },
  {
   "cell_type": "code",
   "execution_count": 8,
   "metadata": {},
   "outputs": [],
   "source": [
    "def get_transcription_info(dataset_path):\n",
    "    non_hindi_chars = []\n",
    "    non_hindi_transcriptions = {}\n",
    "    total_duration=0\n",
    "    transcription_path = dataset_path / \"transcription.txt\"\n",
    "    with open(transcription_path, \"r\", encoding=\"utf-8\") as fp:\n",
    "        data = fp.read().splitlines()\n",
    "        transcription_data = {\n",
    "            transcription.split(\" \")[0] + \".wav\": \" \".join(transcription.split(\" \")[1:])\n",
    "            for transcription in data\n",
    "        }\n",
    "    for audio_file, transcription in transcription_data.items():\n",
    "        clean_transcription, non_hindi_tokens = clean_and_verify_transcript_hi(transcription)\n",
    "        if len(non_hindi_tokens) != 0:\n",
    "            duration=get_duration_ffprobe(dataset_path/\"audio\"/audio_file)\n",
    "            non_hindi_transcriptions[audio_file] = {\n",
    "                \"raw_transcription\": transcription,\n",
    "                \"clean_transcription\": clean_transcription,\n",
    "                \"duration\":duration\n",
    "            }\n",
    "            total_duration+=duration\n",
    "            \n",
    "            non_hindi_chars.extend(non_hindi_tokens)\n",
    "    print(non_hindi_chars)\n",
    "    non_hindi_char_freq=dict(Counter(non_hindi_chars))\n",
    "    non_hindi_transcriptions[\"total_audio_duration\"]=total_duration\n",
    "    save_json(non_hindi_transcriptions,save_path=save_path/f\"mucs_{dataset_path.name}_non_hindi_transcripts.json\",ensure_ascii=False)\n",
    "    save_json(non_hindi_char_freq,save_path=save_path/f\"mucs_{dataset_path.name}_non_hindi_tokens.json\",ensure_ascii=False)\n",
    "    \n",
    "    "
   ]
  },
  {
   "cell_type": "code",
   "execution_count": 9,
   "metadata": {},
   "outputs": [
    {
     "name": "stdout",
     "output_type": "stream",
     "text": [
      "['ॠ', 'ॠ', 'ॠ', 'ॠ', 'ॠ', 'ॠ', 'ॠ', 'ॠ', 'ॠ', 'ॠ', 'ॠ', 'ॠ', 'ॠ', 'ॠ', 'ॠ', 'ॠ', 'ॠ', 'ॠ', 'ॠ', 'ॠ', 'ॠ', 'ॠ', 'ॠ', 'ॠ', 'ॠ', 'ॠ', 'ॠ', 'ॠ', 'ॠ', 'ॠ', 'ॠ', 'ॠ', 'ॠ', 'ॠ', 'ॠ', 'ॠ', 'ॠ', 'ॠ', 'ॠ', 'ॠ', 'ॠ', 'ॠ', 'ॠ', 'ॠ', 'ॠ', 'ॠ', 'ॠ', 'ॠ', 'ॠ', 'ॠ', 'ॠ', 'ॠ', 'ॠ', 'ॠ', 'ॠ', 'ॠ', 'ॠ', 'ॠ', 'ॠ', 'ॠ', 'ॠ', 'ॠ', 'ॠ', 'ॠ', 'ॠ', 'ॠ', 'ॠ', 'ॠ', 'ॠ', 'ॠ', 'ॠ', 'ॠ', 'ॠ', 'ॠ', 'ॠ', 'ॠ', 'ॠ', 'ॠ', 'ॠ', 'ॠ', 'ॠ', 'ॠ', 'ॠ', 'ॠ', 'ॠ', 'ॠ', 'ॠ', 'ॠ', 'ॠ', 'ॠ', 'ॠ', 'ॠ', 'ॠ', 'ॠ', 'ॠ', 'ॠ', 'ॠ', 'ॠ', 'ॠ', 'ॠ', 'ॠ', 'ॠ', 'ॠ', 'ॠ', 'ॠ', 'ॠ', 'ॠ', 'ॠ', 'ॠ', 'ॠ', 'ॠ', 'ॠ', 'ॠ', 'ॠ', 'ॠ', 'ॠ', 'ॠ', 'ॠ', 'ॠ', 'ॠ', 'ॠ', 'ॠ', 'ॠ', 'ॠ', 'ॠ', 'ॠ', 'ॠ', 'ॠ', 'ॠ', 'ॠ', 'ॠ', 'ॠ', 'ॠ', 'ॠ', 'ॠ', 'ॠ', 'ॠ', 'ॠ', 'ॠ', 'ॠ', 'ॠ', 'ॠ', 'ॠ', 'ॠ', 'ॠ', 'ॠ', 'ॠ', 'ॠ', 'ॠ', 'ॠ', 'ॠ', 'ॠ', 'ॠ', 'ॠ', 'ॠ', 'ॠ', 'ॠ', 'ॠ', 'ॠ', 'ॠ', 'ॠ', 'ॠ', 'ॠ', 'ॠ', 'ॠ', 'ॠ', 'ॠ', 'ॠ', 'ॠ', 'ॠ', 'ॠ', 'ॠ', 'ॠ', 'ॠ', 'ॠ', 'ॠ', 'ॠ', 'ॠ', 'ॠ', 'ॠ', 'ॠ', 'ॠ', 'ॠ', 'ॠ', 'ॠ', 'ॠ', 'ॠ', 'ॠ', 'ॠ', 'ॠ', 'ॠ', 'ॠ', 'ॠ', 'ॠ', 'ॠ', 'ॠ', 'ॠ', 'ॠ', 'ॠ', 'ॠ', 'ॠ', 'ॠ', 'ॠ', 'ॠ', 'ॠ', 'ॠ', 'ऍ', 'ऍ', 'ऍ', 'ऍ', 'ऍ', 'ऍ', 'ऍ', 'ऍ', 'ऍ', 'ऍ', 'ऍ', 'ऍ', 'ऍ', 'ऍ', 'ऍ', 'ऍ', 'ऍ', 'ऍ', 'ऍ', 'ऍ', 'ऍ', 'ऍ', 'ऍ', 'ऍ', 'ऍ', 'ऍ', 'ऍ', 'ऍ', 'ऍ', 'ऍ', 'ऍ', 'ऍ', 'ऍ', 'ऍ', 'ऍ', 'ऍ', 'ऍ', 'ऍ', 'ऍ', 'ऍ', 'ऍ', 'ऍ', 'ऍ', 'ऍ', 'ऍ', 'ऍ', 'ऍ', 'ऍ', 'ऍ', 'ऍ', 'ऍ', 'ऍ', 'ऍ', 'ऍ', 'ऍ', 'ऍ', 'ऍ', 'ऍ', 'ऍ', 'ऍ', 'ऍ', 'ऍ']\n"
     ]
    }
   ],
   "source": [
    "get_transcription_info(train_dir)"
   ]
  },
  {
   "cell_type": "code",
   "execution_count": 10,
   "metadata": {},
   "outputs": [
    {
     "name": "stdout",
     "output_type": "stream",
     "text": [
      "['ऍ', 'ऍ', 'ऍ', 'ऍ', 'ऍ', 'ऍ', 'ऍ', 'ऍ', 'ऍ', 'ऍ']\n"
     ]
    }
   ],
   "source": [
    "get_transcription_info(dev_dir)"
   ]
  },
  {
   "cell_type": "code",
   "execution_count": 11,
   "metadata": {},
   "outputs": [
    {
     "name": "stdout",
     "output_type": "stream",
     "text": [
      "[]\n"
     ]
    }
   ],
   "source": [
    "get_transcription_info(test_dir)"
   ]
  },
  {
   "cell_type": "code",
   "execution_count": 12,
   "metadata": {},
   "outputs": [
    {
     "data": {
      "text/plain": [
       "(0.0, 18.0, 26.480000000000473)"
      ]
     },
     "execution_count": 12,
     "metadata": {},
     "output_type": "execute_result"
    }
   ],
   "source": [
    "sec_to_time(1106.4800000000005)"
   ]
  },
  {
   "cell_type": "code",
   "execution_count": null,
   "metadata": {},
   "outputs": [],
   "source": []
  },
  {
   "cell_type": "markdown",
   "metadata": {},
   "source": [
    "## Raw audio duration"
   ]
  },
  {
   "cell_type": "markdown",
   "metadata": {},
   "source": [
    "train_raw audio duration : 95:03:00  \n",
    "dev_raw audio duration: 5:33:25  \n",
    "test_raw audio duration: 5:29:26  \n",
    "total_duration: 106:05:51"
   ]
  },
  {
   "cell_type": "markdown",
   "metadata": {},
   "source": [
    "## Total number of audio files"
   ]
  },
  {
   "cell_type": "markdown",
   "metadata": {},
   "source": [
    "train_audio_files: 99925  \n",
    "dev_audio_files: 3843  \n",
    "test_audio_files: 3897  \n",
    "total_audio files: 107665\n"
   ]
  },
  {
   "cell_type": "code",
   "execution_count": 1,
   "metadata": {},
   "outputs": [
    {
     "name": "stderr",
     "output_type": "stream",
     "text": [
      "/home/munikumar/miniconda3/envs/practice/lib/python3.9/site-packages/tqdm/auto.py:21: TqdmWarning: IProgress not found. Please update jupyter and ipywidgets. See https://ipywidgets.readthedocs.io/en/stable/user_install.html\n",
      "  from .autonotebook import tqdm as notebook_tqdm\n"
     ]
    }
   ],
   "source": [
    "from datasets import load_dataset\n",
    "fleurs = load_dataset(\"google/fleurs\", \"hi_in\", split=\"train\")\n"
   ]
  },
  {
   "cell_type": "code",
   "execution_count": 2,
   "metadata": {},
   "outputs": [
    {
     "name": "stdout",
     "output_type": "stream",
     "text": [
      "Dataset({\n",
      "    features: ['id', 'num_samples', 'path', 'audio', 'transcription', 'raw_transcription', 'gender', 'lang_id', 'language', 'lang_group_id'],\n",
      "    num_rows: 2120\n",
      "})\n"
     ]
    }
   ],
   "source": [
    "print(fleurs)"
   ]
  }
 ],
 "metadata": {
  "kernelspec": {
   "display_name": "practice",
   "language": "python",
   "name": "python3"
  },
  "language_info": {
   "codemirror_mode": {
    "name": "ipython",
    "version": 3
   },
   "file_extension": ".py",
   "mimetype": "text/x-python",
   "name": "python",
   "nbconvert_exporter": "python",
   "pygments_lexer": "ipython3",
   "version": "3.9.17"
  },
  "orig_nbformat": 4
 },
 "nbformat": 4,
 "nbformat_minor": 2
}
