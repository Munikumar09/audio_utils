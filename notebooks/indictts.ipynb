{
 "cells": [
  {
   "cell_type": "code",
   "execution_count": 1,
   "metadata": {},
   "outputs": [],
   "source": [
    "import sys\n",
    "sys.path.append(\"..\")\n",
    "from utils.audio_utils import get_total_audio_duration,get_audio_info,get_duration_ffprobe\n",
    "from pathlib import Path\n",
    "from tqdm import tqdm\n",
    "from utils.file_utils import save_json\n",
    "from utils.transcription_utils import clean_and_verify_transcript_hi,get_transcription_info,get_stats,get_total_stats\n",
    "from collections import Counter\n",
    "from utils.conversions import sec_to_time\n",
    "import json"
   ]
  },
  {
   "cell_type": "code",
   "execution_count": 2,
   "metadata": {},
   "outputs": [],
   "source": [
    "save_path=Path(\"/media/dataset-harddisk/munikumar/utils/audio_utils/data/indictts/normalize\")"
   ]
  },
  {
   "cell_type": "code",
   "execution_count": 3,
   "metadata": {},
   "outputs": [],
   "source": [
    "dataset_path=Path(\"/media/dataset-harddisk/munikumar/hindi_dataset/indictts/indictts/hindi\")"
   ]
  },
  {
   "cell_type": "code",
   "execution_count": 4,
   "metadata": {},
   "outputs": [],
   "source": [
    "def load_transcription(transcription_path):\n",
    "    transcriptions={}\n",
    "    with open(transcription_path, \"r\", encoding=\"utf-8\") as fp:\n",
    "        for transcription_data in fp.readlines():\n",
    "            data=json.loads(transcription_data)\n",
    "            audio_file = Path(data[\"audio_filepath\"]).name\n",
    "            transcription = data[\"text\"]\n",
    "            transcriptions[audio_file] = transcription\n",
    "    return transcriptions"
   ]
  },
  {
   "cell_type": "code",
   "execution_count": 5,
   "metadata": {},
   "outputs": [
    {
     "name": "stdout",
     "output_type": "stream",
     "text": [
      "**************************************************\n",
      "Loss of audio data without transcription normalization:\n",
      "**************************************************\n",
      "Total duration : 19:57:22\n",
      "Loss duration : 0:6:2\n",
      "Remaining duration : 19:51:20\n",
      "Drop by percentage: 0.50\n",
      "\n",
      "Total audio files : 9032\n",
      "Files that would be drop: 11\n",
      "Remaining audio files : 9021\n",
      "Drop by percentage: 0.12\n",
      "**************************************************\n",
      "Non hindi tokes : ['-', '2', '8', 'ॠ', '\\u200e']\n"
     ]
    }
   ],
   "source": [
    "# train_transcriptions=load_transcription(dataset_path/\"final_train_manifest.json\")\n",
    "# get_transcription_info(train_transcriptions,dataset_path/\"wavs-16k\",save_path,\"train\")\n",
    "get_stats(save_path/\"train_non_hindi_transcripts.json\")"
   ]
  },
  {
   "cell_type": "code",
   "execution_count": 6,
   "metadata": {},
   "outputs": [
    {
     "name": "stdout",
     "output_type": "stream",
     "text": [
      "**************************************************\n",
      "Loss of audio data without transcription normalization:\n",
      "**************************************************\n",
      "Total duration : 0:12:36\n",
      "Loss duration : 0:0:32\n",
      "Remaining duration : 0:12:3\n",
      "Drop by percentage: 4.33\n",
      "\n",
      "Total audio files : 100\n",
      "Files that would be drop: 1\n",
      "Remaining audio files : 99\n",
      "Drop by percentage: 1.00\n",
      "**************************************************\n",
      "Non hindi tokes : ['ॠ']\n"
     ]
    }
   ],
   "source": [
    "# test_transcriptions=load_transcription(dataset_path/\"final_test_manifest.json\")\n",
    "# get_transcription_info(test_transcriptions,dataset_path/\"wavs-16k\",save_path,\"test\")\n",
    "get_stats(save_path/\"test_non_hindi_transcripts.json\")"
   ]
  },
  {
   "cell_type": "code",
   "execution_count": 7,
   "metadata": {},
   "outputs": [
    {
     "name": "stdout",
     "output_type": "stream",
     "text": [
      "**************************************************\n",
      "Loss of audio data for total dataset:\n",
      "**************************************************\n",
      "Total duration : 20:9:59\n",
      "Loss duration : 0:6:34\n",
      "Remaining duration : 20:3:24\n",
      "Drop by percentage: 0.54\n",
      "\n",
      "Total audio files : 9132\n",
      "Files that would be drop: 12\n",
      "Remaining audio files : 9120\n",
      "Drop by percentage: 0.13\n"
     ]
    }
   ],
   "source": [
    "get_total_stats(save_path)"
   ]
  },
  {
   "cell_type": "code",
   "execution_count": null,
   "metadata": {},
   "outputs": [],
   "source": [
    "\"abcdefghijklmnopqrstuvwxyzABCDEFGHIJKLMNOPQRSTUVWXYZ\""
   ]
  }
 ],
 "metadata": {
  "kernelspec": {
   "display_name": "practice",
   "language": "python",
   "name": "python3"
  },
  "language_info": {
   "codemirror_mode": {
    "name": "ipython",
    "version": 3
   },
   "file_extension": ".py",
   "mimetype": "text/x-python",
   "name": "python",
   "nbconvert_exporter": "python",
   "pygments_lexer": "ipython3",
   "version": "3.9.17"
  },
  "orig_nbformat": 4
 },
 "nbformat": 4,
 "nbformat_minor": 2
}
