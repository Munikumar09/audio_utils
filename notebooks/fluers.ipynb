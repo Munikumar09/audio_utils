{
 "cells": [
  {
   "cell_type": "code",
   "execution_count": 1,
   "metadata": {},
   "outputs": [],
   "source": [
    "import sys\n",
    "sys.path.append(\"..\")\n",
    "from utils.audio_utils import get_total_audio_duration,get_audio_info,get_duration_ffprobe\n",
    "from pathlib import Path\n",
    "from tqdm import tqdm\n",
    "from utils.file_utils import save_json\n",
    "from utils.transcription_utils import clean_and_verify_transcript_hi,get_transcription_info,get_stats,get_total_stats\n",
    "from collections import Counter\n",
    "from utils.conversions import sec_to_time\n",
    "import csv"
   ]
  },
  {
   "cell_type": "code",
   "execution_count": 2,
   "metadata": {},
   "outputs": [],
   "source": [
    "save_path=Path(\"/media/dataset-harddisk/munikumar/utils/audio_utils/data/fleurs/new\")"
   ]
  },
  {
   "cell_type": "code",
   "execution_count": 3,
   "metadata": {},
   "outputs": [],
   "source": [
    "dataset_dir=Path(\"/home/munikumar/tensorflow_datasets/downloads/extracted/TAR_GZ.xtreme_translations_FLEURS102_hi_inEaSxynH7BZG6ezARa-vP_4qmfH_hSq0E0ejV4mgFORM.tar.gz/hi_in\")"
   ]
  },
  {
   "cell_type": "code",
   "execution_count": 4,
   "metadata": {},
   "outputs": [],
   "source": [
    "def load_transcription(transcription_path):\n",
    "    with open(transcription_path, \"r\", encoding=\"utf-8\") as fp:\n",
    "        reader=csv.reader(fp,delimiter='\\t')\n",
    "        \n",
    "        transcription_data = {\n",
    "            transcription[1]:transcription[3]\n",
    "            for transcription in reader\n",
    "        }\n",
    "    return transcription_data"
   ]
  },
  {
   "cell_type": "code",
   "execution_count": 5,
   "metadata": {},
   "outputs": [
    {
     "name": "stdout",
     "output_type": "stream",
     "text": [
      "getting audio info about : new - train\n"
     ]
    },
    {
     "name": "stderr",
     "output_type": "stream",
     "text": [
      "  0%|          | 0/2120 [00:00<?, ?it/s]"
     ]
    },
    {
     "name": "stderr",
     "output_type": "stream",
     "text": [
      "100%|██████████| 2120/2120 [01:44<00:00, 20.31it/s]\n"
     ]
    },
    {
     "name": "stdout",
     "output_type": "stream",
     "text": [
      "**************************************************\n",
      "Loss of audio data without transcription normalization:\n",
      "**************************************************\n",
      "Total duration : 6:39:20\n",
      "Loss duration : 2:33:57\n",
      "Remaining duration : 4:5:22\n",
      "Drop by percentage: 38.55\n",
      "\n",
      "Total audio files : 2120\n",
      "Files that would be drop: 748\n",
      "Remaining audio files : 1372\n",
      "Drop by percentage: 35.28\n",
      "**************************************************\n",
      "Non hindi tokes : ['!', '$', '%', \"'\", '+', ',', '-', '.', '/', '0', '1', '2', '3', '4', '5', '6', '7', '8', '9', ':', ';', 'a', 'b', 'c', 'd', 'e', 'f', 'g', 'h', 'i', 'j', 'k', 'l', 'm', 'n', 'o', 'p', 'q', 'r', 's', 't', 'u', 'v', 'w', 'x', 'y', 'z', '£', '¥', '°', 'á', 'õ', 'ú', '।', '\\u200d', '—', '”']\n"
     ]
    }
   ],
   "source": [
    "# train_transcription_data=load_transcription(dataset_dir/\"train.tsv\")\n",
    "# get_transcription_info(train_transcription_data,dataset_dir/\"audio\"/\"train\",save_path,\"train\")\n",
    "get_stats(save_path/\"train_non_hindi_transcripts.json\")"
   ]
  },
  {
   "cell_type": "markdown",
   "metadata": {},
   "source": [
    "### Train Dataset\n",
    "**************************************************\n",
    "**Loss of audio data without transcription normalization:**\n",
    "****************************************************\n",
    "Total duration : 6:39:20  \n",
    "Loss duration : 2:33:57  \n",
    "Remaining duration : 4:5:22  \n",
    "Drop by percentage: 38.55  \n",
    "\n",
    "Total audio files : 2120  \n",
    "Files that would be drop: 748  \n",
    "Remaining audio files : 1372  \n",
    "Drop by percentage: 35.28  \n",
    "**************************************************\n",
    "Non hindi tokes : ['!', '$', '%', \"'\", '+', ',', '-', '.', '/', '0', '1', '2', '3', '4', '5', '6', '7', '8', '9', ':', ';', 'a', 'b', 'c', 'd', 'e', 'f', 'g', 'h', 'i', 'j', 'k', 'l', 'm', 'n', 'o', 'p', 'q', 'r', 's', 't', 'u', 'v', 'w', 'x', 'y', 'z', '£', '¥', '°', 'á', 'õ', 'ú', '।', '\\u200d', '—', '”']\n"
   ]
  },
  {
   "cell_type": "code",
   "execution_count": 6,
   "metadata": {},
   "outputs": [
    {
     "name": "stdout",
     "output_type": "stream",
     "text": [
      "getting audio info about : new - dev\n"
     ]
    },
    {
     "name": "stderr",
     "output_type": "stream",
     "text": [
      "100%|██████████| 239/239 [00:12<00:00, 18.83it/s]\n"
     ]
    },
    {
     "name": "stdout",
     "output_type": "stream",
     "text": [
      "**************************************************\n",
      "Loss of audio data without transcription normalization:\n",
      "**************************************************\n",
      "Total duration : 0:42:45\n",
      "Loss duration : 0:14:12\n",
      "Remaining duration : 0:28:32\n",
      "Drop by percentage: 33.25\n",
      "\n",
      "Total audio files : 239\n",
      "Files that would be drop: 63\n",
      "Remaining audio files : 176\n",
      "Drop by percentage: 26.36\n",
      "**************************************************\n",
      "Non hindi tokes : [',', '-', '.', '/', '0', '1', '2', '3', '4', '5', '6', '7', '8', '9', 'a', 'b', 'e', 'm', 'n', 'o', 'p', 'r', 's', 't', 'u', 'w', '।', '”']\n"
     ]
    }
   ],
   "source": [
    "dev_transcription_data=load_transcription(dataset_dir/\"dev.tsv\")\n",
    "get_transcription_info(dev_transcription_data,dataset_dir/\"audio\"/\"dev\",save_path,\"dev\")\n",
    "get_stats(save_path/\"dev_non_hindi_transcripts.json\")"
   ]
  },
  {
   "cell_type": "markdown",
   "metadata": {},
   "source": [
    "### Dev Dataset\n",
    "**************************************************\n",
    "**Loss of audio data without transcription normalization:**\n",
    "**************************************************\n",
    "Total duration : 0:42:45  \n",
    "Loss duration : 0:14:12  \n",
    "Remaining duration : 0:28:32  \n",
    "Drop by percentage: 33.25  \n",
    "\n",
    "Total audio files : 239  \n",
    "Files that would be drop: 63  \n",
    "Remaining audio files : 176  \n",
    "Drop by percentage: 26.36  \n",
    "**************************************************\n",
    "Non hindi tokes : [',', '-', '.', '/', '0', '1', '2', '3', '4', '5', '6', '7', '8', '9', 'a', 'b', 'e', 'm', 'n', 'o', 'p', 'r', 's', 't', 'u', 'w', '।', '”']"
   ]
  },
  {
   "cell_type": "code",
   "execution_count": 7,
   "metadata": {},
   "outputs": [
    {
     "name": "stdout",
     "output_type": "stream",
     "text": [
      "getting audio info about : new - test\n"
     ]
    },
    {
     "name": "stderr",
     "output_type": "stream",
     "text": [
      "100%|██████████| 418/418 [00:22<00:00, 18.37it/s]\n"
     ]
    },
    {
     "name": "stdout",
     "output_type": "stream",
     "text": [
      "**************************************************\n",
      "Loss of audio data without transcription normalization:\n",
      "**************************************************\n",
      "Total duration : 1:20:32\n",
      "Loss duration : 0:27:39\n",
      "Remaining duration : 0:52:52\n",
      "Drop by percentage: 34.35\n",
      "\n",
      "Total audio files : 418\n",
      "Files that would be drop: 131\n",
      "Remaining audio files : 287\n",
      "Drop by percentage: 31.34\n",
      "**************************************************\n",
      "Non hindi tokes : ['!', '%', ',', '-', '.', '/', '0', '1', '2', '3', '4', '5', '6', '7', '8', '9', ':', ';', 'a', 'c', 'd', 'e', 'g', 'h', 'i', 'l', 'm', 'n', 'o', 'p', 's', 't', 'z', '।', '\\u200d', '”']\n"
     ]
    }
   ],
   "source": [
    "test_transcription_data=load_transcription(dataset_dir/\"test.tsv\")\n",
    "get_transcription_info(test_transcription_data,dataset_dir/\"audio\"/\"test\",save_path,\"test\")\n",
    "get_stats(save_path/\"test_non_hindi_transcripts.json\")"
   ]
  },
  {
   "cell_type": "markdown",
   "metadata": {},
   "source": [
    "### Test Dataset\n",
    "**************************************************\n",
    "**Loss of audio data without transcription normalization:**\n",
    "**************************************************\n",
    "Total duration : 1:20:32  \n",
    "Loss duration : 0:27:39  \n",
    "Remaining duration : 0:52:52  \n",
    "Drop by percentage: 34.35  \n",
    "\n",
    "Total audio files : 418  \n",
    "Files that would be drop: 131  \n",
    "Remaining audio files : 287  \n",
    "Drop by percentage: 31.34  \n",
    "**************************************************\n",
    "Non hindi tokes : ['!', '%', ',', '-', '.', '/', '0', '1', '2', '3', '4', '5', '6', '7', '8', '9', ':', ';', 'a', 'c', 'd', 'e', 'g', 'h', 'i', 'l', 'm', 'n', 'o', 'p', 's', 't', 'z', '।', '\\u200d', '”']\n"
   ]
  },
  {
   "cell_type": "code",
   "execution_count": 8,
   "metadata": {},
   "outputs": [
    {
     "name": "stdout",
     "output_type": "stream",
     "text": [
      "**************************************************\n",
      "Loss of audio data for total dataset:\n",
      "**************************************************\n",
      "Total duration : 8:42:37\n",
      "Loss duration : 3:15:50\n",
      "Remaining duration : 5:26:47\n",
      "Drop by percentage: 37.47\n",
      "\n",
      "Total audio files : 2777\n",
      "Files that would be drop: 942\n",
      "Remaining audio files : 1835\n",
      "Drop by percentage: 33.92\n"
     ]
    }
   ],
   "source": [
    "get_total_stats(save_path)"
   ]
  },
  {
   "cell_type": "markdown",
   "metadata": {},
   "source": [
    "### Total Dataset\n",
    "**************************************************\n",
    "Loss of audio data for total dataset:\n",
    "**************************************************\n",
    "Total duration : 8:42:37  \n",
    "Loss duration : 3:15:50  \n",
    "Remaining duration : 5:26:47  \n",
    "Drop by percentage: 37.47  \n",
    "\n",
    "Total audio files : 2777  \n",
    "Files that would be drop: 942  \n",
    "Remaining audio files : 1835  \n",
    "Drop by percentage: 33.92  "
   ]
  }
 ],
 "metadata": {
  "kernelspec": {
   "display_name": "practice",
   "language": "python",
   "name": "python3"
  },
  "language_info": {
   "codemirror_mode": {
    "name": "ipython",
    "version": 3
   },
   "file_extension": ".py",
   "mimetype": "text/x-python",
   "name": "python",
   "nbconvert_exporter": "python",
   "pygments_lexer": "ipython3",
   "version": "3.9.17"
  },
  "orig_nbformat": 4
 },
 "nbformat": 4,
 "nbformat_minor": 2
}
