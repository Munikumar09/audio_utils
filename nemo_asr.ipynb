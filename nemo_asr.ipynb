{
 "cells": [
  {
   "cell_type": "code",
   "execution_count": 1,
   "metadata": {},
   "outputs": [
    {
     "name": "stderr",
     "output_type": "stream",
     "text": [
      "[NeMo W 2023-12-17 11:37:13 transformer_bpe_models:59] Could not import NeMo NLP collection which is required for speech translation model.\n"
     ]
    },
    {
     "name": "stdout",
     "output_type": "stream",
     "text": [
      "[NeMo I 2023-12-17 11:37:13 cloud:58] Found existing object /home/munikumar/.cache/torch/NeMo/NeMo_1.21.0/stt_hi_conformer_ctc_medium/be04ad0a850be76a1a79c17945fcc8cb/stt_hi_conformer_ctc_medium.nemo.\n",
      "[NeMo I 2023-12-17 11:37:13 cloud:64] Re-using file from: /home/munikumar/.cache/torch/NeMo/NeMo_1.21.0/stt_hi_conformer_ctc_medium/be04ad0a850be76a1a79c17945fcc8cb/stt_hi_conformer_ctc_medium.nemo\n",
      "[NeMo I 2023-12-17 11:37:13 common:913] Instantiating model from pre-trained checkpoint\n",
      "[NeMo I 2023-12-17 11:37:13 mixins:170] Tokenizer SentencePieceTokenizer initialized with 128 tokens\n"
     ]
    },
    {
     "name": "stderr",
     "output_type": "stream",
     "text": [
      "[NeMo W 2023-12-17 11:37:13 modelPT:161] If you intend to do training or fine-tuning, please call the ModelPT.setup_training_data() method and provide a valid configuration file to setup the train data loader.\n",
      "    Train config : \n",
      "    manifest_filepath: /code/03_manifest/ulca-train-v3.json\n",
      "    sample_rate: 16000\n",
      "    batch_size: 64\n",
      "    shuffle: true\n",
      "    num_workers: 8\n",
      "    pin_memory: true\n",
      "    use_start_end_token: false\n",
      "    trim_silence: false\n",
      "    max_duration: 16.7\n",
      "    min_duration: 0.1\n",
      "    \n",
      "[NeMo W 2023-12-17 11:37:13 modelPT:168] If you intend to do validation, please call the ModelPT.setup_validation_data() or ModelPT.setup_multiple_validation_data() method and provide a valid configuration file to setup the validation data loader(s). \n",
      "    Validation config : \n",
      "    manifest_filepath: /code/manifest/ulca-eval.json\n",
      "    sample_rate: 16000\n",
      "    batch_size: 4\n",
      "    shuffle: false\n",
      "    num_workers: 8\n",
      "    pin_memory: true\n",
      "    use_start_end_token: false\n",
      "    \n",
      "[NeMo W 2023-12-17 11:37:13 modelPT:174] Please call the ModelPT.setup_test_data() or ModelPT.setup_multiple_test_data() method and provide a valid configuration file to setup the test data loader(s).\n",
      "    Test config : \n",
      "    manifest_filepath: /code/manifest/ulca-eval.json\n",
      "    sample_rate: 16000\n",
      "    batch_size: 4\n",
      "    shuffle: false\n",
      "    num_workers: 8\n",
      "    pin_memory: true\n",
      "    use_start_end_token: false\n",
      "    \n"
     ]
    },
    {
     "name": "stdout",
     "output_type": "stream",
     "text": [
      "[NeMo I 2023-12-17 11:37:13 features:289] PADDING: 0\n",
      "[NeMo I 2023-12-17 11:37:13 audio_preprocessing:517] Numba CUDA SpecAugment kernel is being used\n",
      "[NeMo I 2023-12-17 11:37:15 save_restore_connector:249] Model EncDecCTCModelBPE was successfully restored from /home/munikumar/.cache/torch/NeMo/NeMo_1.21.0/stt_hi_conformer_ctc_medium/be04ad0a850be76a1a79c17945fcc8cb/stt_hi_conformer_ctc_medium.nemo.\n"
     ]
    }
   ],
   "source": [
    "import nemo.collections.asr as nemo_asr_cls\n",
    "from pathlib import Path\n",
    "from tqdm import tqdm\n",
    "\n",
    "device=\"cuda\"\n",
    "nemo_model = nemo_asr_cls.models.EncDecCTCModelBPE.from_pretrained(\n",
    "            model_name=\"stt_hi_conformer_ctc_medium\"\n",
    "        ).to(device)\n",
    "\n",
    "# def nemo_transcription(audiofile):\n",
    "#     transcript=nemo_model.transcribe(paths2audio_files=[audiofile], batch_size=1)\n",
    "#     return transcript[0]\n",
    "\n",
    "# audio_files=sorted(list(Path(\"/media/dataset-harddisk/munikumar/datasets/hindi_dataset/gramvaani/unlabelled/split_audio\").rglob(\"*.mp3\")))\n",
    "\n",
    "# trans_path=Path(\"/media/dataset-harddisk/munikumar/datasets/hindi_dataset/gramvaani/unlabelled/transcriptions.txt\")\n",
    "\n",
    "# with open(trans_path,'+a') as f:\n",
    "#     for audiofile in tqdm(audio_files):\n",
    "#         transcript=nemo_transcription(str(audiofile))\n",
    "#         f.write(str(audiofile.name)+\"\\t\"+transcript+\"\\n\")\n",
    "\n",
    "        \n"
   ]
  }
 ],
 "metadata": {
  "kernelspec": {
   "display_name": "indic",
   "language": "python",
   "name": "python3"
  },
  "language_info": {
   "codemirror_mode": {
    "name": "ipython",
    "version": 3
   },
   "file_extension": ".py",
   "mimetype": "text/x-python",
   "name": "python",
   "nbconvert_exporter": "python",
   "pygments_lexer": "ipython3",
   "version": "3.9.18"
  }
 },
 "nbformat": 4,
 "nbformat_minor": 2
}
